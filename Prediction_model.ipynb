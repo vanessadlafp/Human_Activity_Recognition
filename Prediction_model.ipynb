{
 "cells": [
  {
   "cell_type": "code",
   "execution_count": 1,
   "id": "fd31afba",
   "metadata": {},
   "outputs": [],
   "source": [
    "import numpy as np\n",
    "import pandas as pd\n",
    "import math\n",
    "\n",
    "from scipy.fftpack import fft\n",
    "from scipy.signal import welch\n",
    "from detecta import detect_peaks\n",
    "\n",
    "\n",
    "import matplotlib.pyplot as plt\n",
    "import seaborn as sns\n",
    "sns.set()\n",
    "\n",
    "from collections import Counter\n",
    "from imblearn.over_sampling import ADASYN \n",
    "\n",
    "from sk_utils import *\n",
    "from pprint import pprint\n",
    "\n",
    "from sklearn.ensemble import GradientBoostingClassifier, RandomForestClassifier\n",
    "from sklearn.linear_model import LogisticRegression\n",
    "from sklearn.neighbors import KNeighborsClassifier\n",
    "from sklearn.tree import DecisionTreeClassifier\n",
    "\n",
    "\n",
    "from sklearn.metrics import accuracy_score, confusion_matrix,classification_report\n",
    "from sklearn.model_selection import  GridSearchCV, train_test_split\n",
    "\n",
    "import pickle\n"
   ]
  },
  {
   "cell_type": "markdown",
   "id": "03bed4bd",
   "metadata": {},
   "source": [
    "### Load and Input Data"
   ]
  },
  {
   "cell_type": "code",
   "execution_count": 2,
   "id": "0e1cd6d3",
   "metadata": {},
   "outputs": [],
   "source": [
    "train_ts = pd.read_csv(\"train_time_series.csv\")\n",
    "train_labels = pd.read_csv(\"train_labels.csv\")"
   ]
  },
  {
   "cell_type": "code",
   "execution_count": 3,
   "id": "28756821",
   "metadata": {},
   "outputs": [],
   "source": [
    "def magnitude(activity):\n",
    "    '''\n",
    "    Calculates the magnitude of a 3D vector\n",
    "    '''\n",
    "    x_2 = activity['x'] * activity['x']\n",
    "    y_2 = activity['y'] * activity['y']\n",
    "    z_2 = activity['z'] * activity['z']\n",
    "    mag_2 = x_2 + y_2 + z_2\n",
    "    mag = mag_2.apply(lambda x: math.sqrt(x))\n",
    "\n",
    "    return mag"
   ]
  },
  {
   "cell_type": "code",
   "execution_count": 4,
   "id": "58f2c4e4",
   "metadata": {},
   "outputs": [],
   "source": [
    "train_ts['m'] = magnitude(train_ts)"
   ]
  },
  {
   "cell_type": "markdown",
   "id": "5ca0a149",
   "metadata": {},
   "source": [
    "#### Parsing of  'UTC Time' column from string to timestamp"
   ]
  },
  {
   "cell_type": "code",
   "execution_count": 5,
   "id": "b5a8b4f6",
   "metadata": {},
   "outputs": [],
   "source": [
    "train_ts['UTC time'] = train_ts['UTC time'].apply(lambda x: pd.to_datetime(x, format='%Y-%m-%dT%H:%M:%S.%f'))\n",
    "train_labels['UTC time'] = train_labels['UTC time'].apply(lambda x: pd.to_datetime(x, format='%Y-%m-%dT%H:%M:%S.%f'))"
   ]
  },
  {
   "cell_type": "markdown",
   "id": "9289db5a",
   "metadata": {},
   "source": [
    "### Sampling time and frequency for time series signals and labels:"
   ]
  },
  {
   "cell_type": "markdown",
   "id": "d6c41a09",
   "metadata": {},
   "source": [
    "#### - Train data"
   ]
  },
  {
   "cell_type": "code",
   "execution_count": 6,
   "id": "869459ec",
   "metadata": {
    "scrolled": true
   },
   "outputs": [
    {
     "name": "stdout",
     "output_type": "stream",
     "text": [
      "Time-series signals - \n",
      "Average time per sample: 0.10 seconds\n",
      "Frequency per sample: 9.97 Hz\n",
      "\n",
      "Activity labels - \n",
      "Average time per sample: 1.00 seconds\n",
      "Frequency per sample: 1.00 Hz\n"
     ]
    }
   ],
   "source": [
    "T_train_ts = np.mean([train_ts['UTC time'].iloc[i+1]-train_ts['UTC time'].iloc[i] for i in range(len(train_ts['UTC time'])-1)])\n",
    "f_train_ts = 1/ T_train_ts.total_seconds()\n",
    "\n",
    "print(\"Time-series signals - \\nAverage time per sample: {:.2f} seconds\\nFrequency per sample: {:.2f} Hz\".\\\n",
    "      format(T_train_ts.total_seconds(), f_train_ts))\n",
    "\n",
    "T_train_label = np.mean([train_labels['UTC time'].iloc[i+1]-train_labels['UTC time'].iloc[i] for i in range(len(train_labels['UTC time'])-1)])\n",
    "f_train_label = 1/ T_train_label.total_seconds()\n",
    "print(\"\\nActivity labels - \\nAverage time per sample: {:.2f} seconds\\nFrequency per sample: {:.2f} Hz\".\\\n",
    "      format(T_train_label.total_seconds(), f_train_label))"
   ]
  },
  {
   "cell_type": "markdown",
   "id": "b387fc0c",
   "metadata": {},
   "source": [
    "### Creating Signals and Labels Arrays for train data, taking into consideration data indications: \n",
    ">because the accelerometers are sampled at high frequency, the labels in train_labels.csv are only provided for every 10th observation in train_time_series.csv"
   ]
  },
  {
   "cell_type": "markdown",
   "id": "9866069d",
   "metadata": {},
   "source": [
    "#### - Train data"
   ]
  },
  {
   "cell_type": "code",
   "execution_count": 7,
   "id": "86ec42d0",
   "metadata": {
    "scrolled": true
   },
   "outputs": [
    {
     "name": "stdout",
     "output_type": "stream",
     "text": [
      "The train signals array contains 375 signals, each one of length 10 samples with 4 different components \n",
      "The train labels array contains 375 labels\n"
     ]
    }
   ],
   "source": [
    "train_x_list = [train_ts.x.iloc[start:start+10] for start in range(len(train_labels))]\n",
    "train_y_list = [train_ts.y.iloc[start:start+10] for start in range(len(train_labels))]\n",
    "train_z_list = [train_ts.z.iloc[start:start+10] for start in range(len(train_labels))]\n",
    "train_m_list = [train_ts.m.iloc[start:start+10] for start in range(len(train_labels))]\n",
    "\n",
    "train_signals = np.transpose(np.array([train_x_list, train_y_list, train_z_list, train_m_list]), (1, 2, 0))\n",
    "train_labels = np.array(train_labels['label'].astype(int))\n",
    "\n",
    "[no_signals_train, no_steps_train, no_components_train] = np.shape(train_signals)\n",
    "\n",
    "\n",
    "print(\"The train signals array contains {} signals, each one of length {} samples with {} different components \".format(no_signals_train, no_steps_train, no_components_train))\n",
    "print(\"The train labels array contains {} labels\".format(np.shape(train_labels)[0]))"
   ]
  },
  {
   "cell_type": "markdown",
   "id": "96ab9662",
   "metadata": {},
   "source": [
    " We now randomize data to avoid possible patterns in data collection to affect our results"
   ]
  },
  {
   "cell_type": "code",
   "execution_count": 8,
   "id": "c73cab0b",
   "metadata": {},
   "outputs": [],
   "source": [
    "def randomize(dataset, labels):\n",
    "   permutation = np.random.permutation(labels.shape[0])\n",
    "   shuffled_dataset = dataset[permutation, :]\n",
    "   shuffled_labels = labels[permutation]\n",
    "   return shuffled_dataset, shuffled_labels\n",
    "\n",
    "train_signals, train_labels = randomize(train_signals, np.array(train_labels))"
   ]
  },
  {
   "cell_type": "markdown",
   "id": "41697a64",
   "metadata": {},
   "source": [
    "### Steps to follow for Stochastic Signal Analysis:\n",
    "1) Transform the signals from the time-domain to the frequency-domain, \n",
    "\n",
    "2) so we can extract features from them (frequencies at which oscillations occur and their corresponding amplitudes) \n",
    "\n",
    "3) and use them as input in standard classifiers."
   ]
  },
  {
   "cell_type": "markdown",
   "id": "eae3706a",
   "metadata": {},
   "source": [
    "### 1) Frequency Transformation Functions"
   ]
  },
  {
   "cell_type": "markdown",
   "id": "977bf459",
   "metadata": {},
   "source": [
    "Fast Fourier Transform (FFT)\n",
    "> Fourier analysis is a field of study used to analyze the periodicity in (periodic) signals. If a signal contains components which are periodic in nature, Fourier analysis can be used to decompose this signal in its periodic components. Fourier analysis tells us at what the frequency of these periodical component are."
   ]
  },
  {
   "cell_type": "code",
   "execution_count": 9,
   "id": "1cff903e",
   "metadata": {},
   "outputs": [],
   "source": [
    "def get_fft_values(y_values, T, N, f_s):\n",
    "    f_values = np.linspace(0.0, 1.0/(2.0*T), N//2)\n",
    "    fft_values_ = fft(y_values)\n",
    "    fft_values = 2.0/N * np.abs(fft_values_[0:N//2])\n",
    "    return f_values, fft_values"
   ]
  },
  {
   "cell_type": "markdown",
   "id": "e000940c",
   "metadata": {},
   "source": [
    "Power Spectral Density (PSD)\n",
    "> Similar to the FFT, it describes the frequency spectrum of a signal. But in addition to the FFT it also takes the power distribution at each frequency (bin) into account. Generally speaking the locations of the peaks in the frequency spectrum will be the same as in the FFT-case, but the height and width of the peaks will differ. The surface below the peaks corresponds with the power distribution at that frequency."
   ]
  },
  {
   "cell_type": "code",
   "execution_count": 10,
   "id": "b7384af5",
   "metadata": {},
   "outputs": [],
   "source": [
    "def get_psd_values(y_values, T, N, f_s):\n",
    "    f_values, psd_values = welch(y_values, fs=f_s)\n",
    "    return f_values, psd_values"
   ]
  },
  {
   "cell_type": "markdown",
   "id": "49b7a00d",
   "metadata": {},
   "source": [
    "Auto-correlation\n",
    "> The auto-correlation function calculates the correlation of a signal with a time-delayed version of itself. The idea behind it is that if a signal contain a pattern which repeats itself after a time-period of \\tau seconds, there will be a high correlation between the signal and a \\tau sec delayed version of the signal."
   ]
  },
  {
   "cell_type": "code",
   "execution_count": 11,
   "id": "8b3d12d9",
   "metadata": {},
   "outputs": [],
   "source": [
    "def autocorr(x):\n",
    "    result = np.correlate(x, x, mode='full')\n",
    "    return result[len(result) // 2:]\n",
    "\n",
    "def get_autocorr_values(y_values, T, N, f_s):\n",
    "    autocorr_values = autocorr(y_values)\n",
    "    x_values = np.array([T * jj for jj in range(0, N)])\n",
    "    return x_values, autocorr_values"
   ]
  },
  {
   "cell_type": "markdown",
   "id": "056cf872",
   "metadata": {},
   "source": [
    "### 2) Statistical parameter estimation and feature extraction"
   ]
  },
  {
   "cell_type": "markdown",
   "id": "afd2459b",
   "metadata": {},
   "source": [
    "#### Peak detection method: https://nbviewer.jupyter.org/github/demotu/BMC/blob/master/notebooks/DetectPeaks.ipynb \n",
    "\n",
    "With this peak-finding function, we can calculate the FFT, PSD and the auto-correlation of each signal and use the x and y coordinates of the peaks as input for our classifier."
   ]
  },
  {
   "cell_type": "code",
   "execution_count": 12,
   "id": "7c1f5c03",
   "metadata": {},
   "outputs": [],
   "source": [
    "def get_values(y_values, T, N, f_s):\n",
    "    y_values = y_values\n",
    "    x_values = [(1/f_s) * kk for kk in range(0,len(y_values))]\n",
    "    return x_values, y_values\n",
    "\n",
    "def get_first_n_peaks(x,y,no_peaks=5):\n",
    "    x_, y_ = list(x), list(y)\n",
    "    if len(x_) >= no_peaks:\n",
    "        return x_[:no_peaks], y_[:no_peaks]\n",
    "    else:\n",
    "        missing_no_peaks = no_peaks-len(x_)\n",
    "        return x_ + [0]*missing_no_peaks, y_ + [0]*missing_no_peaks\n",
    "    \n",
    "def get_features_ft(x_values, y_values, mph):\n",
    "    indices_peaks = detect_peaks(y_values, mph=mph)\n",
    "    peaks_x, peaks_y = get_first_n_peaks(x_values[indices_peaks], y_values[indices_peaks])\n",
    "    return peaks_x + peaks_y\n",
    " \n",
    "def extract_features_labels(dataset, labels, T, N, f_s, denominator):\n",
    "    percentile = 5\n",
    "    list_of_features = []\n",
    "    list_of_labels = []\n",
    "    for signal_no in range(0, len(dataset)):\n",
    "        features = []\n",
    "        list_of_labels.append(labels[signal_no])\n",
    "        for signal_comp in range(0,dataset.shape[2]):\n",
    "            signal = dataset[signal_no, :, signal_comp]\n",
    "            \n",
    "            signal_min = np.nanpercentile(signal, percentile)\n",
    "            signal_max = np.nanpercentile(signal, 100-percentile)\n",
    "            #ijk = (100 - 2*percentile)/10\n",
    "            mph = signal_min + (signal_max - signal_min)/denominator\n",
    "            \n",
    "            features += get_features_ft(*get_psd_values(signal, T, N, f_s), mph)\n",
    "            features += get_features_ft(*get_fft_values(signal, T, N, f_s), mph)\n",
    "            features += get_features_ft(*get_autocorr_values(signal, T, N, f_s), mph)\n",
    "        list_of_features.append(features)\n",
    "    return np.array(list_of_features), np.array(list_of_labels)"
   ]
  },
  {
   "cell_type": "markdown",
   "id": "77ea12c0",
   "metadata": {},
   "source": [
    "### Application of the different transformations to the  components of the signal and subsequent peak detection in the resulting frequency spectrum:"
   ]
  },
  {
   "cell_type": "code",
   "execution_count": 13,
   "id": "d2fe4297",
   "metadata": {},
   "outputs": [],
   "source": [
    "activities_description = {\n",
    "    1: 'Standing',\n",
    "    2: 'Walking',\n",
    "    3: 'Stairs down',\n",
    "    4: 'Stairs up'\n",
    "}\n",
    "\n",
    "N = 10  # number of samples\n",
    "f_s = 1 #1 Hz for train_labels, 10 Hz for train_ts \n",
    "t_n = 1 #1 sec for train_labels, 0.1 sec for train_ts\n",
    "T = t_n / N \n",
    "sample_rate = 1 / f_s\n",
    "denominator = 10"
   ]
  },
  {
   "cell_type": "code",
   "execution_count": 14,
   "id": "cd698d39",
   "metadata": {},
   "outputs": [
    {
     "name": "stderr",
     "output_type": "stream",
     "text": [
      "C:\\Users\\Vanessa\\Anaconda3\\lib\\site-packages\\scipy\\signal\\spectral.py:1963: UserWarning: nperseg = 256 is greater than input length  = 10, using nperseg = 10\n",
      "  .format(nperseg, input_length))\n",
      "C:\\Users\\Vanessa\\Anaconda3\\lib\\site-packages\\scipy\\signal\\spectral.py:1963: UserWarning: nperseg = 256 is greater than input length  = 10, using nperseg = 10\n",
      "  .format(nperseg, input_length))\n",
      "C:\\Users\\Vanessa\\Anaconda3\\lib\\site-packages\\scipy\\signal\\spectral.py:1963: UserWarning: nperseg = 256 is greater than input length  = 10, using nperseg = 10\n",
      "  .format(nperseg, input_length))\n",
      "C:\\Users\\Vanessa\\Anaconda3\\lib\\site-packages\\scipy\\signal\\spectral.py:1963: UserWarning: nperseg = 256 is greater than input length  = 10, using nperseg = 10\n",
      "  .format(nperseg, input_length))\n",
      "C:\\Users\\Vanessa\\Anaconda3\\lib\\site-packages\\scipy\\signal\\spectral.py:1963: UserWarning: nperseg = 256 is greater than input length  = 10, using nperseg = 10\n",
      "  .format(nperseg, input_length))\n",
      "C:\\Users\\Vanessa\\Anaconda3\\lib\\site-packages\\scipy\\signal\\spectral.py:1963: UserWarning: nperseg = 256 is greater than input length  = 10, using nperseg = 10\n",
      "  .format(nperseg, input_length))\n",
      "C:\\Users\\Vanessa\\Anaconda3\\lib\\site-packages\\scipy\\signal\\spectral.py:1963: UserWarning: nperseg = 256 is greater than input length  = 10, using nperseg = 10\n",
      "  .format(nperseg, input_length))\n",
      "C:\\Users\\Vanessa\\Anaconda3\\lib\\site-packages\\scipy\\signal\\spectral.py:1963: UserWarning: nperseg = 256 is greater than input length  = 10, using nperseg = 10\n",
      "  .format(nperseg, input_length))\n",
      "C:\\Users\\Vanessa\\Anaconda3\\lib\\site-packages\\scipy\\signal\\spectral.py:1963: UserWarning: nperseg = 256 is greater than input length  = 10, using nperseg = 10\n",
      "  .format(nperseg, input_length))\n",
      "C:\\Users\\Vanessa\\Anaconda3\\lib\\site-packages\\scipy\\signal\\spectral.py:1963: UserWarning: nperseg = 256 is greater than input length  = 10, using nperseg = 10\n",
      "  .format(nperseg, input_length))\n",
      "C:\\Users\\Vanessa\\Anaconda3\\lib\\site-packages\\scipy\\signal\\spectral.py:1963: UserWarning: nperseg = 256 is greater than input length  = 10, using nperseg = 10\n",
      "  .format(nperseg, input_length))\n",
      "C:\\Users\\Vanessa\\Anaconda3\\lib\\site-packages\\scipy\\signal\\spectral.py:1963: UserWarning: nperseg = 256 is greater than input length  = 10, using nperseg = 10\n",
      "  .format(nperseg, input_length))\n"
     ]
    },
    {
     "data": {
      "image/png": "[encoded data removed]",
      "text/plain": [
       "<Figure size 864x576 with 16 Axes>"
      ]
     },
     "metadata": {},
     "output_type": "display_data"
    }
   ],
   "source": [
    "labels = ['x-component', 'y-component', 'z-component']\n",
    "colors = ['r', 'g', 'b']\n",
    "suptitle = \"Different signals for the activity: {}\"\n",
    " \n",
    "xlabels = ['Time [sec]', 'Freq [Hz]', 'Freq [Hz]', 'Time lag [s]']\n",
    "ylabel = 'Amplitude'\n",
    "axtitles = [['Standing: Acc', 'Walking: Acc', 'Stairs dn: Acc', 'Stairs up: Acc'],\n",
    "            ['Standing: FFT Acc', 'Walking: FFT Acc', 'Stairs dn: FFT Acc', 'Stairs up: FFT Acc'],\n",
    "            ['Standing: PSD Acc', 'Walking: PSD Acc', 'Stairs dn: PSD Acc', 'Stairs up: PSD Acc'],\n",
    "            ['Standing: Autocorr Acc', 'Walking: Autocorr Acc', 'Stairs dn: Autocorr Acc', 'Stairs up: Autocorr Acc']\n",
    "           ]\n",
    "\n",
    "list_functions = [get_values, get_fft_values, get_psd_values, get_autocorr_values]\n",
    "signal_no_list = [5, 20, 160, 120]\n",
    "activity_name = list(activities_description.values())\n",
    "\n",
    "f, axarr = plt.subplots(nrows=4, ncols=4, figsize=(12,8))\n",
    "f.suptitle(suptitle.format(activity_name), fontsize=10)\n",
    " \n",
    "for row_no in range(0,4):\n",
    "    for col_no in range(0,4):\n",
    "        for comp_no in range(0,3):\n",
    "            color = colors[comp_no % 3]\n",
    "            label = labels[comp_no % 3]\n",
    "\n",
    "            axtitle  = axtitles[row_no][col_no]\n",
    "            xlabel = xlabels[row_no]\n",
    "            value_retriever = list_functions[row_no]\n",
    "\n",
    "            ax = axarr[row_no][col_no]\n",
    "            ax.set_title(axtitle, fontsize=10)\n",
    "            ax.set_xlabel(xlabel, fontsize=10)\n",
    "            \n",
    "            if col_no == 0:\n",
    "                ax.set_ylabel(ylabel, fontsize=10)\n",
    "\n",
    "            signal_no = signal_no_list[col_no]\n",
    "            signals = train_signals[signal_no, :, :]\n",
    "            signal_component = signals[:, comp_no]\n",
    "            x_values, y_values = value_retriever(signal_component, T, N, f_s)\n",
    "            ax.plot(x_values, y_values, linestyle='-', color=color, label=label)\n",
    "            \n",
    "            if row_no > 0:\n",
    "                max_peak_height = 0.1 * np.nanmax(y_values)\n",
    "                indices_peaks = detect_peaks(y_values, mph=max_peak_height)\n",
    "                ax.scatter(x_values[indices_peaks], y_values[indices_peaks], c=color, marker='*', s=60)\n",
    "            if col_no == 3:\n",
    "                ax.legend(loc='center left', bbox_to_anchor=(1, 0.5))            \n",
    "plt.tight_layout()\n",
    "plt.subplots_adjust(top=0.90, hspace=0.6)\n",
    "plt.show()"
   ]
  },
  {
   "cell_type": "markdown",
   "id": "d53fde6d",
   "metadata": {},
   "source": [
    "### Feature extraction "
   ]
  },
  {
   "cell_type": "code",
   "execution_count": 15,
   "id": "f858868c",
   "metadata": {},
   "outputs": [
    {
     "name": "stderr",
     "output_type": "stream",
     "text": [
      "C:\\Users\\Vanessa\\Anaconda3\\lib\\site-packages\\scipy\\signal\\spectral.py:1963: UserWarning: nperseg = 256 is greater than input length  = 10, using nperseg = 10\n",
      "  .format(nperseg, input_length))\n"
     ]
    },
    {
     "name": "stdout",
     "output_type": "stream",
     "text": [
      "(375, 120)\n",
      "(375,)\n"
     ]
    }
   ],
   "source": [
    "X_train_ft, Y_train_ft = extract_features_labels(train_signals, train_labels, T, N, f_s, denominator)\n",
    "\n",
    "print(X_train_ft.shape)\n",
    "print(Y_train_ft.shape)"
   ]
  },
  {
   "cell_type": "markdown",
   "id": "4256a9e8",
   "metadata": {},
   "source": [
    "### Resampling for Class Imbalance"
   ]
  },
  {
   "cell_type": "code",
   "execution_count": 16,
   "id": "c6d7cdf1",
   "metadata": {},
   "outputs": [
    {
     "name": "stdout",
     "output_type": "stream",
     "text": [
      "Original dataset shape Counter({2: 213, 3: 88, 4: 47, 1: 27})\n",
      "Resampled dataset shape Counter({3: 231, 2: 213, 1: 212, 4: 209})\n"
     ]
    }
   ],
   "source": [
    "print('Original dataset shape %s' % Counter(Y_train_ft))\n",
    "\n",
    "ada = ADASYN()\n",
    "X_res, y_res = ada.fit_resample(X_train_ft, Y_train_ft)\n",
    "\n",
    "print('Resampled dataset shape %s' % Counter(y_res))"
   ]
  },
  {
   "cell_type": "markdown",
   "id": "4e5cc148",
   "metadata": {},
   "source": [
    "### 3) Classification with (traditional) Scikit-learn classifiers"
   ]
  },
  {
   "cell_type": "code",
   "execution_count": 17,
   "id": "68fc2fd6",
   "metadata": {},
   "outputs": [],
   "source": [
    "X_train, X_val, Y_train, Y_val = train_test_split(X_res, y_res, train_size=0.8, random_state=1)"
   ]
  },
  {
   "cell_type": "markdown",
   "id": "2f20b592",
   "metadata": {},
   "source": [
    "#### We will build several classifiers to see which one performs best to proceed with hyperparameter tuning.\n"
   ]
  },
  {
   "cell_type": "code",
   "execution_count": 18,
   "id": "9a1bcf75",
   "metadata": {
    "scrolled": true
   },
   "outputs": [
    {
     "name": "stdout",
     "output_type": "stream",
     "text": [
      "trained Gradient Boosting Classifier in 2.91 s\n",
      "trained Random Forest in 0.34 s\n",
      "trained Logistic Regression in 0.15 s\n",
      "trained Nearest Neighbors in 0.00 s\n",
      "trained Decision Tree in 0.02 s\n"
     ]
    },
    {
     "name": "stderr",
     "output_type": "stream",
     "text": [
      "C:\\Users\\Vanessa\\Anaconda3\\lib\\site-packages\\sklearn\\linear_model\\_logistic.py:765: ConvergenceWarning: lbfgs failed to converge (status=1):\n",
      "STOP: TOTAL NO. of ITERATIONS REACHED LIMIT.\n",
      "\n",
      "Increase the number of iterations (max_iter) or scale the data as shown in:\n",
      "    https://scikit-learn.org/stable/modules/preprocessing.html\n",
      "Please also refer to the documentation for alternative solver options:\n",
      "    https://scikit-learn.org/stable/modules/linear_model.html#logistic-regression\n",
      "  extra_warning_msg=_LOGISTIC_SOLVER_CONVERGENCE_MSG)\n"
     ]
    },
    {
     "data": {
      "text/html": [
       "<div>\n",
       "<style scoped>\n",
       "    .dataframe tbody tr th:only-of-type {\n",
       "        vertical-align: middle;\n",
       "    }\n",
       "\n",
       "    .dataframe tbody tr th {\n",
       "        vertical-align: top;\n",
       "    }\n",
       "\n",
       "    .dataframe thead th {\n",
       "        text-align: right;\n",
       "    }\n",
       "</style>\n",
       "<table border=\"1\" class=\"dataframe\">\n",
       "  <thead>\n",
       "    <tr style=\"text-align: right;\">\n",
       "      <th></th>\n",
       "      <th>classifier</th>\n",
       "      <th>train_score</th>\n",
       "      <th>test_score</th>\n",
       "      <th>train_time</th>\n",
       "    </tr>\n",
       "  </thead>\n",
       "  <tbody>\n",
       "    <tr>\n",
       "      <th>0</th>\n",
       "      <td>Gradient Boosting Classifier</td>\n",
       "      <td>1.000000</td>\n",
       "      <td>0.942197</td>\n",
       "      <td>2.911525</td>\n",
       "    </tr>\n",
       "    <tr>\n",
       "      <th>1</th>\n",
       "      <td>Random Forest</td>\n",
       "      <td>1.000000</td>\n",
       "      <td>0.924855</td>\n",
       "      <td>0.343152</td>\n",
       "    </tr>\n",
       "    <tr>\n",
       "      <th>3</th>\n",
       "      <td>Nearest Neighbors</td>\n",
       "      <td>0.875723</td>\n",
       "      <td>0.843931</td>\n",
       "      <td>0.001200</td>\n",
       "    </tr>\n",
       "    <tr>\n",
       "      <th>4</th>\n",
       "      <td>Decision Tree</td>\n",
       "      <td>1.000000</td>\n",
       "      <td>0.843931</td>\n",
       "      <td>0.021316</td>\n",
       "    </tr>\n",
       "    <tr>\n",
       "      <th>2</th>\n",
       "      <td>Logistic Regression</td>\n",
       "      <td>0.800578</td>\n",
       "      <td>0.803468</td>\n",
       "      <td>0.154920</td>\n",
       "    </tr>\n",
       "  </tbody>\n",
       "</table>\n",
       "</div>"
      ],
      "text/plain": [
       "                     classifier  train_score  test_score  train_time\n",
       "0  Gradient Boosting Classifier     1.000000    0.942197    2.911525\n",
       "1                 Random Forest     1.000000    0.924855    0.343152\n",
       "3             Nearest Neighbors     0.875723    0.843931    0.001200\n",
       "4                 Decision Tree     1.000000    0.843931    0.021316\n",
       "2           Logistic Regression     0.800578    0.803468    0.154920"
      ]
     },
     "metadata": {},
     "output_type": "display_data"
    }
   ],
   "source": [
    "models = batch_classify(X_train, Y_train, X_val, Y_val)\n",
    "display_dict_models(models)"
   ]
  },
  {
   "cell_type": "markdown",
   "id": "e778d1e8",
   "metadata": {},
   "source": [
    "### Hyperparameter Tuning for Best Classifier"
   ]
  },
  {
   "cell_type": "markdown",
   "id": "3a7dc792",
   "metadata": {},
   "source": [
    "Gradient Boosting Classifier was the best classifier but the train time was much higher than the rest, for which we'll proceed with hyperparameter tuning for the 2nd best classifier: Random Forest."
   ]
  },
  {
   "cell_type": "code",
   "execution_count": 19,
   "id": "539f0814",
   "metadata": {},
   "outputs": [],
   "source": [
    "# Create a based model\n",
    "rf = RandomForestClassifier()"
   ]
  },
  {
   "cell_type": "code",
   "execution_count": 20,
   "id": "9ef1a60f",
   "metadata": {},
   "outputs": [
    {
     "name": "stdout",
     "output_type": "stream",
     "text": [
      "Parameters currently in use:\n",
      "\n",
      "{'bootstrap': True,\n",
      " 'ccp_alpha': 0.0,\n",
      " 'class_weight': None,\n",
      " 'criterion': 'gini',\n",
      " 'max_depth': None,\n",
      " 'max_features': 'auto',\n",
      " 'max_leaf_nodes': None,\n",
      " 'max_samples': None,\n",
      " 'min_impurity_decrease': 0.0,\n",
      " 'min_impurity_split': None,\n",
      " 'min_samples_leaf': 1,\n",
      " 'min_samples_split': 2,\n",
      " 'min_weight_fraction_leaf': 0.0,\n",
      " 'n_estimators': 100,\n",
      " 'n_jobs': None,\n",
      " 'oob_score': False,\n",
      " 'random_state': None,\n",
      " 'verbose': 0,\n",
      " 'warm_start': False}\n"
     ]
    }
   ],
   "source": [
    "print('Parameters currently in use:\\n')\n",
    "pprint(rf.get_params())"
   ]
  },
  {
   "cell_type": "markdown",
   "id": "89bc4b39",
   "metadata": {},
   "source": [
    "### Hyperparameters considered for tuning:"
   ]
  },
  {
   "cell_type": "code",
   "execution_count": 21,
   "id": "01eafd83",
   "metadata": {},
   "outputs": [],
   "source": [
    "# Create the parameter grid based on the results of random search \n",
    "param_grid = {\n",
    "    'bootstrap': [True],\n",
    "    'max_depth': [80, 90, 100, 110],\n",
    "    'max_features': [2, 3],\n",
    "    'min_samples_leaf': [3, 4, 5],\n",
    "    'min_samples_split': [8, 10, 12],\n",
    "    'n_estimators': [100, 200, 300, 1000]\n",
    "}\n",
    "\n",
    "\n",
    "# Instantiate the grid search model\n",
    "grid_search = GridSearchCV(estimator = rf, param_grid = param_grid, \n",
    "                          cv = 3, n_jobs = -1, verbose = 2)"
   ]
  },
  {
   "cell_type": "code",
   "execution_count": 22,
   "id": "d39423fa",
   "metadata": {},
   "outputs": [
    {
     "name": "stdout",
     "output_type": "stream",
     "text": [
      "Fitting 3 folds for each of 288 candidates, totalling 864 fits\n"
     ]
    }
   ],
   "source": [
    "# Fit the grid search to the data\n",
    "grid_result= grid_search.fit(X_train, Y_train)\n",
    "                "
   ]
  },
  {
   "cell_type": "code",
   "execution_count": 24,
   "id": "0205d0cf",
   "metadata": {},
   "outputs": [
    {
     "data": {
      "text/plain": [
       "{'bootstrap': True,\n",
       " 'max_depth': 110,\n",
       " 'max_features': 3,\n",
       " 'min_samples_leaf': 3,\n",
       " 'min_samples_split': 8,\n",
       " 'n_estimators': 300}"
      ]
     },
     "execution_count": 24,
     "metadata": {},
     "output_type": "execute_result"
    }
   ],
   "source": [
    "grid_result.best_params_"
   ]
  },
  {
   "cell_type": "code",
   "execution_count": 25,
   "id": "5b92dcdc",
   "metadata": {},
   "outputs": [],
   "source": [
    "def evaluate(model, test_features, test_labels):\n",
    "    predictions = model.predict(test_features)\n",
    "    errors = abs(predictions - test_labels)\n",
    "    mape = 100 * np.mean(errors / test_labels)\n",
    "    accuracy = 100 - mape\n",
    "    print('Model Performance')\n",
    "    print('Average Error: {:0.4f} degrees.'.format(np.mean(errors)))\n",
    "    print('Accuracy = {:0.2f}%.'.format(accuracy))\n",
    "    \n",
    "    return accuracy"
   ]
  },
  {
   "cell_type": "code",
   "execution_count": 26,
   "id": "09e496ed",
   "metadata": {},
   "outputs": [],
   "source": [
    "best_grid = grid_result.best_estimator_"
   ]
  },
  {
   "cell_type": "code",
   "execution_count": 27,
   "id": "655cecfa",
   "metadata": {},
   "outputs": [
    {
     "name": "stdout",
     "output_type": "stream",
     "text": [
      "Model Performance\n",
      "Average Error: 0.1618 degrees.\n",
      "Accuracy = 93.74%.\n"
     ]
    }
   ],
   "source": [
    "grid_accuracy = evaluate(best_grid, X_val, Y_val)"
   ]
  },
  {
   "cell_type": "markdown",
   "id": "f367cb91",
   "metadata": {},
   "source": [
    "### Pickle the model file"
   ]
  },
  {
   "cell_type": "code",
   "execution_count": 28,
   "id": "b5fd5906",
   "metadata": {},
   "outputs": [],
   "source": [
    "pickl = {'model': best_grid}\n",
    "pickle.dump( pickl, open( 'model_file' + \".p\", \"wb\" ) )"
   ]
  },
  {
   "cell_type": "code",
   "execution_count": 34,
   "id": "7fb0251e",
   "metadata": {},
   "outputs": [],
   "source": [
    "file_name = \"model_file.p\"\n",
    "with open(file_name, 'rb') as pickled:\n",
    "    data = pickle.load(pickled)\n",
    "    model = data['model']"
   ]
  },
  {
   "cell_type": "code",
   "execution_count": 47,
   "id": "87d85737",
   "metadata": {},
   "outputs": [
    {
     "data": {
      "text/plain": [
       "3"
      ]
     },
     "execution_count": 47,
     "metadata": {},
     "output_type": "execute_result"
    }
   ],
   "source": [
    "model.predict(X_val[0,:].reshape(1,-1))[0]"
   ]
  },
  {
   "cell_type": "code",
   "execution_count": 49,
   "id": "4aa4968d",
   "metadata": {},
   "outputs": [
    {
     "data": {
      "text/plain": [
       "[0.2,\n",
       " 0.0,\n",
       " 0.0,\n",
       " 0.0,\n",
       " 0.0,\n",
       " 0.3613156100044691,\n",
       " 0.0,\n",
       " 0.0,\n",
       " 0.0,\n",
       " 0.0,\n",
       " 3.75,\n",
       " 0.0,\n",
       " 0.0,\n",
       " 0.0,\n",
       " 0.0,\n",
       " 0.3212469283765894,\n",
       " 0.0,\n",
       " 0.0,\n",
       " 0.0,\n",
       " 0.0,\n",
       " 0.30000000000000004,\n",
       " 0.7000000000000001,\n",
       " 0.0,\n",
       " 0.0,\n",
       " 0.0,\n",
       " 0.417852996473041,\n",
       " 0.1729176091844369,\n",
       " 0.0,\n",
       " 0.0,\n",
       " 0.0,\n",
       " 0.1,\n",
       " 0.0,\n",
       " 0.0,\n",
       " 0.0,\n",
       " 0.0,\n",
       " 0.3537463661127467,\n",
       " 0.0,\n",
       " 0.0,\n",
       " 0.0,\n",
       " 0.0,\n",
       " 2.5,\n",
       " 0.0,\n",
       " 0.0,\n",
       " 0.0,\n",
       " 0.0,\n",
       " 0.4276762969343201,\n",
       " 0.0,\n",
       " 0.0,\n",
       " 0.0,\n",
       " 0.0,\n",
       " 0.0,\n",
       " 0.0,\n",
       " 0.0,\n",
       " 0.0,\n",
       " 0.0,\n",
       " 0.0,\n",
       " 0.0,\n",
       " 0.0,\n",
       " 0.0,\n",
       " 0.0,\n",
       " 0.1,\n",
       " 0.0,\n",
       " 0.0,\n",
       " 0.0,\n",
       " 0.0,\n",
       " 0.25948920032197165,\n",
       " 0.0,\n",
       " 0.0,\n",
       " 0.0,\n",
       " 0.0,\n",
       " 1.25,\n",
       " 3.75,\n",
       " 0.0,\n",
       " 0.0,\n",
       " 0.0,\n",
       " 0.24015726094839326,\n",
       " 0.24918844009399227,\n",
       " 0.0,\n",
       " 0.0,\n",
       " 0.0,\n",
       " 0.30000000000000004,\n",
       " 0.7000000000000001,\n",
       " 0.0,\n",
       " 0.0,\n",
       " 0.0,\n",
       " -0.0839777718231256,\n",
       " 0.252379834681453,\n",
       " 0.0,\n",
       " 0.0,\n",
       " 0.0,\n",
       " 0.0,\n",
       " 0.0,\n",
       " 0.0,\n",
       " 0.0,\n",
       " 0.0,\n",
       " 0.0,\n",
       " 0.0,\n",
       " 0.0,\n",
       " 0.0,\n",
       " 0.0,\n",
       " 0.0,\n",
       " 0.0,\n",
       " 0.0,\n",
       " 0.0,\n",
       " 0.0,\n",
       " 0.0,\n",
       " 0.0,\n",
       " 0.0,\n",
       " 0.0,\n",
       " 0.0,\n",
       " 0.0,\n",
       " 0.0,\n",
       " 0.0,\n",
       " 0.0,\n",
       " 0.0,\n",
       " 0.0,\n",
       " 0.0,\n",
       " 0.0,\n",
       " 0.0,\n",
       " 0.0]"
      ]
     },
     "execution_count": 49,
     "metadata": {},
     "output_type": "execute_result"
    }
   ],
   "source": [
    "list(X_val[0,:])"
   ]
  },
  {
   "cell_type": "code",
   "execution_count": null,
   "id": "08c09e12",
   "metadata": {},
   "outputs": [],
   "source": []
  }
 ],
 "metadata": {
  "kernelspec": {
   "display_name": "Python 3",
   "language": "python",
   "name": "python3"
  },
  "language_info": {
   "codemirror_mode": {
    "name": "ipython",
    "version": 3
   },
   "file_extension": ".py",
   "mimetype": "text/x-python",
   "name": "python",
   "nbconvert_exporter": "python",
   "pygments_lexer": "ipython3",
   "version": "3.7.10"
  }
 },
 "nbformat": 4,
 "nbformat_minor": 5
}
