{
 "cells": [
  {
   "cell_type": "code",
   "execution_count": 1,
   "id": "fd31afba",
   "metadata": {},
   "outputs": [],
   "source": [
    "import numpy as np\n",
    "import pandas as pd\n",
    "import math\n",
    "\n",
    "from scipy.fftpack import fft\n",
    "from scipy.signal import welch\n",
    "from detecta import detect_peaks\n",
    "\n",
    "\n",
    "import matplotlib.pyplot as plt\n",
    "import seaborn as sns\n",
    "sns.set()\n",
    "\n",
    "from collections import Counter\n",
    "from imblearn.over_sampling import ADASYN \n",
    "\n",
    "from sk_utils import *\n",
    "from pprint import pprint\n",
    "\n",
    "from sklearn.ensemble import GradientBoostingClassifier, RandomForestClassifier, AdaBoostClassifier\n",
    "from sklearn.linear_model import LogisticRegression\n",
    "from sklearn.neighbors import KNeighborsClassifier\n",
    "from sklearn.tree import DecisionTreeClassifier\n",
    "from sklearn.svm import SVC\n",
    "from sklearn.neural_network import MLPClassifier\n",
    "from sklearn.naive_bayes import GaussianNB\n",
    "from sklearn.gaussian_process import GaussianProcessClassifier\n",
    "\n",
    "from sklearn.metrics import accuracy_score, confusion_matrix,classification_report\n",
    "from sklearn.model_selection import cross_val_score, GridSearchCV, RandomizedSearchCV, train_test_split"
   ]
  },
  {
   "cell_type": "markdown",
   "id": "03bed4bd",
   "metadata": {},
   "source": [
    "### Load and Input Data"
   ]
  },
  {
   "cell_type": "code",
   "execution_count": 2,
   "id": "0e1cd6d3",
   "metadata": {},
   "outputs": [],
   "source": [
    "train_ts = pd.read_csv(\"train_time_series.csv\")\n",
    "train_labels = pd.read_csv(\"train_labels.csv\")\n",
    "\n",
    "test_ts = pd.read_csv(\"test_time_series.csv\")\n",
    "test_labels = pd.read_csv(\"test_labels.csv\")"
   ]
  },
  {
   "cell_type": "code",
   "execution_count": 3,
   "id": "28756821",
   "metadata": {},
   "outputs": [],
   "source": [
    "def magnitude(activity):\n",
    "    '''\n",
    "    Calculates the magnitude of a 3D vector\n",
    "    '''\n",
    "    x_2 = activity['x'] * activity['x']\n",
    "    y_2 = activity['y'] * activity['y']\n",
    "    z_2 = activity['z'] * activity['z']\n",
    "    mag_2 = x_2 + y_2 + z_2\n",
    "    mag = mag_2.apply(lambda x: math.sqrt(x))\n",
    "\n",
    "    return mag"
   ]
  },
  {
   "cell_type": "code",
   "execution_count": 4,
   "id": "58f2c4e4",
   "metadata": {},
   "outputs": [],
   "source": [
    "train_ts['m'] = magnitude(train_ts)\n",
    "test_ts['m'] = magnitude(test_ts)"
   ]
  },
  {
   "cell_type": "markdown",
   "id": "5ca0a149",
   "metadata": {},
   "source": [
    "#### Parsing of  'UTC Time' column from string to timestamp"
   ]
  },
  {
   "cell_type": "code",
   "execution_count": 5,
   "id": "b5a8b4f6",
   "metadata": {},
   "outputs": [],
   "source": [
    "train_ts['UTC time'] = train_ts['UTC time'].apply(lambda x: pd.to_datetime(x, format='%Y-%m-%dT%H:%M:%S.%f'))\n",
    "train_labels['UTC time'] = train_labels['UTC time'].apply(lambda x: pd.to_datetime(x, format='%Y-%m-%dT%H:%M:%S.%f'))\n",
    "\n",
    "test_ts['UTC time'] = test_ts['UTC time'].apply(lambda x: pd.to_datetime(x, format='%Y-%m-%dT%H:%M:%S.%f'))\n",
    "test_labels['UTC time'] = test_labels['UTC time'].apply(lambda x: pd.to_datetime(x, format='%Y-%m-%dT%H:%M:%S.%f'))"
   ]
  },
  {
   "cell_type": "markdown",
   "id": "9289db5a",
   "metadata": {},
   "source": [
    "### Sampling time and frequency for time series signals and labels:"
   ]
  },
  {
   "cell_type": "markdown",
   "id": "d6c41a09",
   "metadata": {},
   "source": [
    "#### - Train data"
   ]
  },
  {
   "cell_type": "code",
   "execution_count": 6,
   "id": "869459ec",
   "metadata": {},
   "outputs": [
    {
     "name": "stdout",
     "output_type": "stream",
     "text": [
      "Time-series signals - \n",
      "Average time per sample: 0.10 seconds\n",
      "Frequency per sample: 9.97 Hz\n",
      "\n",
      "Activity labels - \n",
      "Average time per sample: 1.00 seconds\n",
      "Frequency per sample: 1.00 Hz\n"
     ]
    }
   ],
   "source": [
    "T_train_ts = np.mean([train_ts['UTC time'].iloc[i+1]-train_ts['UTC time'].iloc[i] for i in range(len(train_ts['UTC time'])-1)])\n",
    "f_train_ts = 1/ T_train_ts.total_seconds()\n",
    "\n",
    "print(\"Time-series signals - \\nAverage time per sample: {:.2f} seconds\\nFrequency per sample: {:.2f} Hz\".\\\n",
    "      format(T_train_ts.total_seconds(), f_train_ts))\n",
    "\n",
    "T_train_label = np.mean([train_labels['UTC time'].iloc[i+1]-train_labels['UTC time'].iloc[i] for i in range(len(train_labels['UTC time'])-1)])\n",
    "f_train_label = 1/ T_train_label.total_seconds()\n",
    "print(\"\\nActivity labels - \\nAverage time per sample: {:.2f} seconds\\nFrequency per sample: {:.2f} Hz\".\\\n",
    "      format(T_train_label.total_seconds(), f_train_label))"
   ]
  },
  {
   "cell_type": "markdown",
   "id": "8f39a394",
   "metadata": {},
   "source": [
    "#### - Test data"
   ]
  },
  {
   "cell_type": "code",
   "execution_count": null,
   "id": "8869ba91",
   "metadata": {},
   "outputs": [],
   "source": [
    "T_test_ts = np.mean([test_ts['UTC time'].iloc[i+1]-test_ts['UTC time'].iloc[i] for i in range(len(test_ts['UTC time'])-1)])\n",
    "f_test_ts = 1/ T_test_ts.total_seconds()\n",
    "\n",
    "print(\"Time-series signals - \\nAverage time per sample: {:.2f} seconds\\nFrequency per sample: {:.2f} Hz\".\\\n",
    "      format(T_test_ts.total_seconds(), f_test_ts))\n",
    "\n",
    "T_test_label = np.mean([test_labels['UTC time'].iloc[i+1]-test_labels['UTC time'].iloc[i] for i in range(len(test_labels['UTC time'])-1)])\n",
    "f_test_label = 1/ T_test_label.total_seconds()\n",
    "print(\"\\nActivity labels - \\nAverage time per sample: {:.2f} seconds\\nFrequency per sample: {:.2f} Hz\".\\\n",
    "      format(T_test_label.total_seconds(), f_test_label))"
   ]
  },
  {
   "cell_type": "markdown",
   "id": "b387fc0c",
   "metadata": {},
   "source": [
    "### Creating Signals and Labels Arrays for train data, taking into consideration data indications: \n",
    ">because the accelerometers are sampled at high frequency, the labels in train_labels.csv are only provided for every 10th observation in train_time_series.csv"
   ]
  },
  {
   "cell_type": "markdown",
   "id": "9866069d",
   "metadata": {},
   "source": [
    "#### - Train data"
   ]
  },
  {
   "cell_type": "code",
   "execution_count": 7,
   "id": "86ec42d0",
   "metadata": {},
   "outputs": [
    {
     "name": "stdout",
     "output_type": "stream",
     "text": [
      "The train signals array contains 375 signals, each one of length 10 samples with 4 different components \n",
      "The train labels array contains 375 labels\n"
     ]
    }
   ],
   "source": [
    "train_x_list = [train_ts.x.iloc[start:start+10] for start in range(len(train_labels))]\n",
    "train_y_list = [train_ts.y.iloc[start:start+10] for start in range(len(train_labels))]\n",
    "train_z_list = [train_ts.z.iloc[start:start+10] for start in range(len(train_labels))]\n",
    "train_m_list = [train_ts.m.iloc[start:start+10] for start in range(len(train_labels))]\n",
    "\n",
    "train_signals = np.transpose(np.array([train_x_list, train_y_list, train_z_list, train_m_list]), (1, 2, 0))\n",
    "train_labels = np.array(train_labels['label'].astype(int))\n",
    "\n",
    "[no_signals_train, no_steps_train, no_components_train] = np.shape(train_signals)\n",
    "\n",
    "\n",
    "print(\"The train signals array contains {} signals, each one of length {} samples with {} different components \".format(no_signals_train, no_steps_train, no_components_train))\n",
    "print(\"The train labels array contains {} labels\".format(np.shape(train_labels)[0]))"
   ]
  },
  {
   "cell_type": "markdown",
   "id": "9600fcea",
   "metadata": {},
   "source": [
    "#### - Test data"
   ]
  },
  {
   "cell_type": "code",
   "execution_count": null,
   "id": "31af0a68",
   "metadata": {},
   "outputs": [],
   "source": [
    "test_x_list = [test_ts.x.iloc[i] for i in range(len(test_labels))]\n",
    "test_y_list = [test_ts.y.iloc[i] for i in range(len(test_labels))]\n",
    "test_z_list = [test_ts.z.iloc[i] for i in range(len(test_labels))]\n",
    "test_m_list = [test_ts.m.iloc[i] for i in range(len(test_labels))]"
   ]
  },
  {
   "cell_type": "code",
   "execution_count": null,
   "id": "066b97f3",
   "metadata": {},
   "outputs": [],
   "source": [
    "test_labels['label'].isnull().any()/test_labels.shape[0]*100"
   ]
  },
  {
   "cell_type": "code",
   "execution_count": null,
   "id": "e02c70d1",
   "metadata": {},
   "outputs": [],
   "source": [
    "test_x_list = [test_ts.x.iloc[i] for i in range(len(test_labels))]\n",
    "test_y_list = [test_ts.y.iloc[i] for i in range(len(test_labels))]\n",
    "test_z_list = [test_ts.z.iloc[i] for i in range(len(test_labels))]\n",
    "test_m_list = [test_ts.m.iloc[i] for i in range(len(test_labels))]\n",
    "\n",
    "test_signals = np.transpose(np.array([test_x_list, test_y_list, test_z_list, test_m_list]), (1, 0))\n",
    "test_labels = np.array(test_labels['label'].astype(int))\n",
    "\n",
    "[no_signals_test, no_components_test] = np.shape(test_signals)\n",
    "\n",
    "\n",
    "print(\"The test signals array contains {} signals with {} different components \".format(no_signals_test,  no_components_test))\n",
    "print(\"The test labels array contains {} labels\".format(np.shape(test_labels)[0]))"
   ]
  },
  {
   "cell_type": "markdown",
   "id": "96ab9662",
   "metadata": {},
   "source": [
    " We now randomize data to avoid possible patterns in data collection to affect our results"
   ]
  },
  {
   "cell_type": "code",
   "execution_count": 8,
   "id": "c73cab0b",
   "metadata": {},
   "outputs": [],
   "source": [
    "def randomize(dataset, labels):\n",
    "   permutation = np.random.permutation(labels.shape[0])\n",
    "   shuffled_dataset = dataset[permutation, :]\n",
    "   shuffled_labels = labels[permutation]\n",
    "   return shuffled_dataset, shuffled_labels\n",
    "\n",
    "train_signals, train_labels = randomize(train_signals, np.array(train_labels))"
   ]
  },
  {
   "cell_type": "markdown",
   "id": "41697a64",
   "metadata": {},
   "source": [
    "### Steps to follow for Stochastic Signal Analysis:\n",
    "1) Transform the signals from the time-domain to the frequency-domain, \n",
    "\n",
    "2) so we can extract features from them (frequencies at which oscillations occur and their corresponding amplitudes) \n",
    "\n",
    "3) and use them as input in standard classifiers."
   ]
  },
  {
   "cell_type": "markdown",
   "id": "eae3706a",
   "metadata": {},
   "source": [
    "### 1) Frequency Transformation Functions"
   ]
  },
  {
   "cell_type": "markdown",
   "id": "977bf459",
   "metadata": {},
   "source": [
    "Fast Fourier Transform (FFT)\n",
    "> Fourier analysis is a field of study used to analyze the periodicity in (periodic) signals. If a signal contains components which are periodic in nature, Fourier analysis can be used to decompose this signal in its periodic components. Fourier analysis tells us at what the frequency of these periodical component are."
   ]
  },
  {
   "cell_type": "code",
   "execution_count": 9,
   "id": "1cff903e",
   "metadata": {},
   "outputs": [],
   "source": [
    "def get_fft_values(y_values, T, N, f_s):\n",
    "    f_values = np.linspace(0.0, 1.0/(2.0*T), N//2)\n",
    "    fft_values_ = fft(y_values)\n",
    "    fft_values = 2.0/N * np.abs(fft_values_[0:N//2])\n",
    "    return f_values, fft_values"
   ]
  },
  {
   "cell_type": "markdown",
   "id": "e000940c",
   "metadata": {},
   "source": [
    "Power Spectral Density (PSD)\n",
    "> Similar to the FFT, it describes the frequency spectrum of a signal. But in addition to the FFT it also takes the power distribution at each frequency (bin) into account. Generally speaking the locations of the peaks in the frequency spectrum will be the same as in the FFT-case, but the height and width of the peaks will differ. The surface below the peaks corresponds with the power distribution at that frequency."
   ]
  },
  {
   "cell_type": "code",
   "execution_count": 10,
   "id": "b7384af5",
   "metadata": {},
   "outputs": [],
   "source": [
    "def get_psd_values(y_values, T, N, f_s):\n",
    "    f_values, psd_values = welch(y_values, fs=f_s)\n",
    "    return f_values, psd_values"
   ]
  },
  {
   "cell_type": "markdown",
   "id": "49b7a00d",
   "metadata": {},
   "source": [
    "Auto-correlation\n",
    "> The auto-correlation function calculates the correlation of a signal with a time-delayed version of itself. The idea behind it is that if a signal contain a pattern which repeats itself after a time-period of \\tau seconds, there will be a high correlation between the signal and a \\tau sec delayed version of the signal."
   ]
  },
  {
   "cell_type": "code",
   "execution_count": 11,
   "id": "8b3d12d9",
   "metadata": {},
   "outputs": [],
   "source": [
    "def autocorr(x):\n",
    "    result = np.correlate(x, x, mode='full')\n",
    "    return result[len(result) // 2:]\n",
    "\n",
    "def get_autocorr_values(y_values, T, N, f_s):\n",
    "    autocorr_values = autocorr(y_values)\n",
    "    x_values = np.array([T * jj for jj in range(0, N)])\n",
    "    return x_values, autocorr_values"
   ]
  },
  {
   "cell_type": "markdown",
   "id": "056cf872",
   "metadata": {},
   "source": [
    "### 2) Statistical parameter estimation and feature extraction"
   ]
  },
  {
   "cell_type": "markdown",
   "id": "afd2459b",
   "metadata": {},
   "source": [
    "#### Peak detection method: https://nbviewer.jupyter.org/github/demotu/BMC/blob/master/notebooks/DetectPeaks.ipynb \n",
    "\n",
    "With this peak-finding function, we can calculate the FFT, PSD and the auto-correlation of each signal and use the x and y coordinates of the peaks as input for our classifier."
   ]
  },
  {
   "cell_type": "code",
   "execution_count": 12,
   "id": "7c1f5c03",
   "metadata": {},
   "outputs": [],
   "source": [
    "def get_values(y_values, T, N, f_s):\n",
    "    y_values = y_values\n",
    "    x_values = [(1/f_s) * kk for kk in range(0,len(y_values))]\n",
    "    return x_values, y_values\n",
    "\n",
    "def get_first_n_peaks(x,y,no_peaks=5):\n",
    "    x_, y_ = list(x), list(y)\n",
    "    if len(x_) >= no_peaks:\n",
    "        return x_[:no_peaks], y_[:no_peaks]\n",
    "    else:\n",
    "        missing_no_peaks = no_peaks-len(x_)\n",
    "        return x_ + [0]*missing_no_peaks, y_ + [0]*missing_no_peaks\n",
    "    \n",
    "def get_features_ft(x_values, y_values, mph):\n",
    "    indices_peaks = detect_peaks(y_values, mph=mph)\n",
    "    peaks_x, peaks_y = get_first_n_peaks(x_values[indices_peaks], y_values[indices_peaks])\n",
    "    return peaks_x + peaks_y\n",
    " \n",
    "def extract_features_labels(dataset, labels, T, N, f_s, denominator):\n",
    "    percentile = 5\n",
    "    list_of_features = []\n",
    "    list_of_labels = []\n",
    "    for signal_no in range(0, len(dataset)):\n",
    "        features = []\n",
    "        list_of_labels.append(labels[signal_no])\n",
    "        for signal_comp in range(0,dataset.shape[2]):\n",
    "            signal = dataset[signal_no, :, signal_comp]\n",
    "            \n",
    "            signal_min = np.nanpercentile(signal, percentile)\n",
    "            signal_max = np.nanpercentile(signal, 100-percentile)\n",
    "            #ijk = (100 - 2*percentile)/10\n",
    "            mph = signal_min + (signal_max - signal_min)/denominator\n",
    "            \n",
    "            features += get_features_ft(*get_psd_values(signal, T, N, f_s), mph)\n",
    "            features += get_features_ft(*get_fft_values(signal, T, N, f_s), mph)\n",
    "            features += get_features_ft(*get_autocorr_values(signal, T, N, f_s), mph)\n",
    "        list_of_features.append(features)\n",
    "    return np.array(list_of_features), np.array(list_of_labels)"
   ]
  },
  {
   "cell_type": "markdown",
   "id": "77ea12c0",
   "metadata": {},
   "source": [
    "### Application of the different transformations to the  components of the signal and subsequent peak detection in the resulting frequency spectrum:"
   ]
  },
  {
   "cell_type": "code",
   "execution_count": 13,
   "id": "d2fe4297",
   "metadata": {},
   "outputs": [],
   "source": [
    "activities_description = {\n",
    "    1: 'Standing',\n",
    "    2: 'Walking',\n",
    "    3: 'Stairs down',\n",
    "    4: 'Stairs up'\n",
    "}\n",
    "\n",
    "N = 10  # number of samples\n",
    "f_s = 1 #1 Hz for train_labels, 10 Hz for train_ts \n",
    "t_n = 1 #1 sec for train_labels, 0.1 sec for train_ts\n",
    "T = t_n / N \n",
    "sample_rate = 1 / f_s\n",
    "denominator = 10"
   ]
  },
  {
   "cell_type": "code",
   "execution_count": 14,
   "id": "cd698d39",
   "metadata": {},
   "outputs": [
    {
     "name": "stderr",
     "output_type": "stream",
     "text": [
      "C:\\Users\\Vanessa\\Anaconda3\\lib\\site-packages\\scipy\\signal\\spectral.py:1963: UserWarning: nperseg = 256 is greater than input length  = 10, using nperseg = 10\n",
      "  .format(nperseg, input_length))\n",
      "C:\\Users\\Vanessa\\Anaconda3\\lib\\site-packages\\scipy\\signal\\spectral.py:1963: UserWarning: nperseg = 256 is greater than input length  = 10, using nperseg = 10\n",
      "  .format(nperseg, input_length))\n",
      "C:\\Users\\Vanessa\\Anaconda3\\lib\\site-packages\\scipy\\signal\\spectral.py:1963: UserWarning: nperseg = 256 is greater than input length  = 10, using nperseg = 10\n",
      "  .format(nperseg, input_length))\n",
      "C:\\Users\\Vanessa\\Anaconda3\\lib\\site-packages\\scipy\\signal\\spectral.py:1963: UserWarning: nperseg = 256 is greater than input length  = 10, using nperseg = 10\n",
      "  .format(nperseg, input_length))\n",
      "C:\\Users\\Vanessa\\Anaconda3\\lib\\site-packages\\scipy\\signal\\spectral.py:1963: UserWarning: nperseg = 256 is greater than input length  = 10, using nperseg = 10\n",
      "  .format(nperseg, input_length))\n",
      "C:\\Users\\Vanessa\\Anaconda3\\lib\\site-packages\\scipy\\signal\\spectral.py:1963: UserWarning: nperseg = 256 is greater than input length  = 10, using nperseg = 10\n",
      "  .format(nperseg, input_length))\n",
      "C:\\Users\\Vanessa\\Anaconda3\\lib\\site-packages\\scipy\\signal\\spectral.py:1963: UserWarning: nperseg = 256 is greater than input length  = 10, using nperseg = 10\n",
      "  .format(nperseg, input_length))\n",
      "C:\\Users\\Vanessa\\Anaconda3\\lib\\site-packages\\scipy\\signal\\spectral.py:1963: UserWarning: nperseg = 256 is greater than input length  = 10, using nperseg = 10\n",
      "  .format(nperseg, input_length))\n",
      "C:\\Users\\Vanessa\\Anaconda3\\lib\\site-packages\\scipy\\signal\\spectral.py:1963: UserWarning: nperseg = 256 is greater than input length  = 10, using nperseg = 10\n",
      "  .format(nperseg, input_length))\n",
      "C:\\Users\\Vanessa\\Anaconda3\\lib\\site-packages\\scipy\\signal\\spectral.py:1963: UserWarning: nperseg = 256 is greater than input length  = 10, using nperseg = 10\n",
      "  .format(nperseg, input_length))\n",
      "C:\\Users\\Vanessa\\Anaconda3\\lib\\site-packages\\scipy\\signal\\spectral.py:1963: UserWarning: nperseg = 256 is greater than input length  = 10, using nperseg = 10\n",
      "  .format(nperseg, input_length))\n",
      "C:\\Users\\Vanessa\\Anaconda3\\lib\\site-packages\\scipy\\signal\\spectral.py:1963: UserWarning: nperseg = 256 is greater than input length  = 10, using nperseg = 10\n",
      "  .format(nperseg, input_length))\n"
     ]
    },
    {
     "data": {
      "image/png": "[encoded data removed]",
      "text/plain": [
       "<Figure size 864x576 with 16 Axes>"
      ]
     },
     "metadata": {},
     "output_type": "display_data"
    }
   ],
   "source": [
    "labels = ['x-component', 'y-component', 'z-component']\n",
    "colors = ['r', 'g', 'b']\n",
    "suptitle = \"Different signals for the activity: {}\"\n",
    " \n",
    "xlabels = ['Time [sec]', 'Freq [Hz]', 'Freq [Hz]', 'Time lag [s]']\n",
    "ylabel = 'Amplitude'\n",
    "axtitles = [['Standing: Acc', 'Walking: Acc', 'Stairs dn: Acc', 'Stairs up: Acc'],\n",
    "            ['Standing: FFT Acc', 'Walking: FFT Acc', 'Stairs dn: FFT Acc', 'Stairs up: FFT Acc'],\n",
    "            ['Standing: PSD Acc', 'Walking: PSD Acc', 'Stairs dn: PSD Acc', 'Stairs up: PSD Acc'],\n",
    "            ['Standing: Autocorr Acc', 'Walking: Autocorr Acc', 'Stairs dn: Autocorr Acc', 'Stairs up: Autocorr Acc']\n",
    "           ]\n",
    "\n",
    "list_functions = [get_values, get_fft_values, get_psd_values, get_autocorr_values]\n",
    "signal_no_list = [5, 20, 160, 120]\n",
    "activity_name = list(activities_description.values())\n",
    "\n",
    "f, axarr = plt.subplots(nrows=4, ncols=4, figsize=(12,8))\n",
    "f.suptitle(suptitle.format(activity_name), fontsize=10)\n",
    " \n",
    "for row_no in range(0,4):\n",
    "    for col_no in range(0,4):\n",
    "        for comp_no in range(0,3):\n",
    "            color = colors[comp_no % 3]\n",
    "            label = labels[comp_no % 3]\n",
    "\n",
    "            axtitle  = axtitles[row_no][col_no]\n",
    "            xlabel = xlabels[row_no]\n",
    "            value_retriever = list_functions[row_no]\n",
    "\n",
    "            ax = axarr[row_no][col_no]\n",
    "            ax.set_title(axtitle, fontsize=10)\n",
    "            ax.set_xlabel(xlabel, fontsize=10)\n",
    "            \n",
    "            if col_no == 0:\n",
    "                ax.set_ylabel(ylabel, fontsize=10)\n",
    "\n",
    "            signal_no = signal_no_list[col_no]\n",
    "            signals = train_signals[signal_no, :, :]\n",
    "            signal_component = signals[:, comp_no]\n",
    "            x_values, y_values = value_retriever(signal_component, T, N, f_s)\n",
    "            ax.plot(x_values, y_values, linestyle='-', color=color, label=label)\n",
    "            \n",
    "            if row_no > 0:\n",
    "                max_peak_height = 0.1 * np.nanmax(y_values)\n",
    "                indices_peaks = detect_peaks(y_values, mph=max_peak_height)\n",
    "                ax.scatter(x_values[indices_peaks], y_values[indices_peaks], c=color, marker='*', s=60)\n",
    "            if col_no == 3:\n",
    "                ax.legend(loc='center left', bbox_to_anchor=(1, 0.5))            \n",
    "plt.tight_layout()\n",
    "plt.subplots_adjust(top=0.90, hspace=0.6)\n",
    "plt.show()"
   ]
  },
  {
   "cell_type": "markdown",
   "id": "d53fde6d",
   "metadata": {},
   "source": [
    "### Feature extraction "
   ]
  },
  {
   "cell_type": "code",
   "execution_count": 15,
   "id": "f858868c",
   "metadata": {},
   "outputs": [
    {
     "name": "stderr",
     "output_type": "stream",
     "text": [
      "C:\\Users\\Vanessa\\Anaconda3\\lib\\site-packages\\scipy\\signal\\spectral.py:1963: UserWarning: nperseg = 256 is greater than input length  = 10, using nperseg = 10\n",
      "  .format(nperseg, input_length))\n"
     ]
    },
    {
     "name": "stdout",
     "output_type": "stream",
     "text": [
      "(375, 120)\n",
      "(375,)\n"
     ]
    }
   ],
   "source": [
    "X_train_ft, Y_train_ft = extract_features_labels(train_signals, train_labels, T, N, f_s, denominator)\n",
    "print(X_train_ft.shape)\n",
    "print(Y_train_ft.shape)"
   ]
  },
  {
   "cell_type": "markdown",
   "id": "4256a9e8",
   "metadata": {},
   "source": [
    "### Resampling for Class Imbalance"
   ]
  },
  {
   "cell_type": "code",
   "execution_count": 16,
   "id": "c6d7cdf1",
   "metadata": {},
   "outputs": [
    {
     "name": "stdout",
     "output_type": "stream",
     "text": [
      "Original dataset shape Counter({2: 213, 3: 88, 4: 47, 1: 27})\n",
      "Resampled dataset shape Counter({3: 231, 2: 213, 1: 212, 4: 209})\n"
     ]
    }
   ],
   "source": [
    "print('Original dataset shape %s' % Counter(Y_train_ft))\n",
    "\n",
    "ada = ADASYN()\n",
    "X_res, y_res = ada.fit_resample(X_train_ft, Y_train_ft)\n",
    "\n",
    "print('Resampled dataset shape %s' % Counter(y_res))"
   ]
  },
  {
   "cell_type": "markdown",
   "id": "4e5cc148",
   "metadata": {},
   "source": [
    "### 3) Classification with (traditional) Scikit-learn classifiers"
   ]
  },
  {
   "cell_type": "code",
   "execution_count": 17,
   "id": "68fc2fd6",
   "metadata": {},
   "outputs": [],
   "source": [
    "X_train, X_val, Y_train, Y_val = train_test_split(X_res, y_res, train_size=0.8, random_state=1)"
   ]
  },
  {
   "cell_type": "markdown",
   "id": "2f20b592",
   "metadata": {},
   "source": [
    "#### We will build several classifiers to see which one performs best to proceed with hyperparameter tuning.\n"
   ]
  },
  {
   "cell_type": "code",
   "execution_count": 18,
   "id": "9a1bcf75",
   "metadata": {
    "scrolled": true
   },
   "outputs": [
    {
     "name": "stdout",
     "output_type": "stream",
     "text": [
      "trained Gradient Boosting Classifier in 3.75 s\n",
      "trained Random Forest in 0.42 s\n",
      "trained Logistic Regression in 0.35 s\n",
      "trained Nearest Neighbors in 0.00 s\n",
      "trained Decision Tree in 0.02 s\n"
     ]
    },
    {
     "name": "stderr",
     "output_type": "stream",
     "text": [
      "C:\\Users\\Vanessa\\Anaconda3\\lib\\site-packages\\sklearn\\linear_model\\_logistic.py:765: ConvergenceWarning: lbfgs failed to converge (status=1):\n",
      "STOP: TOTAL NO. of ITERATIONS REACHED LIMIT.\n",
      "\n",
      "Increase the number of iterations (max_iter) or scale the data as shown in:\n",
      "    https://scikit-learn.org/stable/modules/preprocessing.html\n",
      "Please also refer to the documentation for alternative solver options:\n",
      "    https://scikit-learn.org/stable/modules/linear_model.html#logistic-regression\n",
      "  extra_warning_msg=_LOGISTIC_SOLVER_CONVERGENCE_MSG)\n"
     ]
    },
    {
     "data": {
      "text/html": [
       "<div>\n",
       "<style scoped>\n",
       "    .dataframe tbody tr th:only-of-type {\n",
       "        vertical-align: middle;\n",
       "    }\n",
       "\n",
       "    .dataframe tbody tr th {\n",
       "        vertical-align: top;\n",
       "    }\n",
       "\n",
       "    .dataframe thead th {\n",
       "        text-align: right;\n",
       "    }\n",
       "</style>\n",
       "<table border=\"1\" class=\"dataframe\">\n",
       "  <thead>\n",
       "    <tr style=\"text-align: right;\">\n",
       "      <th></th>\n",
       "      <th>classifier</th>\n",
       "      <th>train_score</th>\n",
       "      <th>test_score</th>\n",
       "      <th>train_time</th>\n",
       "    </tr>\n",
       "  </thead>\n",
       "  <tbody>\n",
       "    <tr>\n",
       "      <th>1</th>\n",
       "      <td>Random Forest</td>\n",
       "      <td>1.000000</td>\n",
       "      <td>0.953757</td>\n",
       "      <td>0.422002</td>\n",
       "    </tr>\n",
       "    <tr>\n",
       "      <th>0</th>\n",
       "      <td>Gradient Boosting Classifier</td>\n",
       "      <td>1.000000</td>\n",
       "      <td>0.936416</td>\n",
       "      <td>3.754645</td>\n",
       "    </tr>\n",
       "    <tr>\n",
       "      <th>4</th>\n",
       "      <td>Decision Tree</td>\n",
       "      <td>1.000000</td>\n",
       "      <td>0.843931</td>\n",
       "      <td>0.023623</td>\n",
       "    </tr>\n",
       "    <tr>\n",
       "      <th>3</th>\n",
       "      <td>Nearest Neighbors</td>\n",
       "      <td>0.864162</td>\n",
       "      <td>0.780347</td>\n",
       "      <td>0.001695</td>\n",
       "    </tr>\n",
       "    <tr>\n",
       "      <th>2</th>\n",
       "      <td>Logistic Regression</td>\n",
       "      <td>0.812139</td>\n",
       "      <td>0.739884</td>\n",
       "      <td>0.348829</td>\n",
       "    </tr>\n",
       "  </tbody>\n",
       "</table>\n",
       "</div>"
      ],
      "text/plain": [
       "                     classifier  train_score  test_score  train_time\n",
       "1                 Random Forest     1.000000    0.953757    0.422002\n",
       "0  Gradient Boosting Classifier     1.000000    0.936416    3.754645\n",
       "4                 Decision Tree     1.000000    0.843931    0.023623\n",
       "3             Nearest Neighbors     0.864162    0.780347    0.001695\n",
       "2           Logistic Regression     0.812139    0.739884    0.348829"
      ]
     },
     "metadata": {},
     "output_type": "display_data"
    }
   ],
   "source": [
    "models = batch_classify(X_train, Y_train, X_val, Y_val)\n",
    "display_dict_models(models)"
   ]
  },
  {
   "cell_type": "markdown",
   "id": "e778d1e8",
   "metadata": {},
   "source": [
    "### Hyperparameter Tuning for Best Classifier"
   ]
  },
  {
   "cell_type": "code",
   "execution_count": 19,
   "id": "539f0814",
   "metadata": {},
   "outputs": [],
   "source": [
    "# Create a based model\n",
    "rf = RandomForestClassifier()"
   ]
  },
  {
   "cell_type": "code",
   "execution_count": 20,
   "id": "9ef1a60f",
   "metadata": {},
   "outputs": [
    {
     "name": "stdout",
     "output_type": "stream",
     "text": [
      "Parameters currently in use:\n",
      "\n",
      "{'bootstrap': True,\n",
      " 'ccp_alpha': 0.0,\n",
      " 'class_weight': None,\n",
      " 'criterion': 'gini',\n",
      " 'max_depth': None,\n",
      " 'max_features': 'auto',\n",
      " 'max_leaf_nodes': None,\n",
      " 'max_samples': None,\n",
      " 'min_impurity_decrease': 0.0,\n",
      " 'min_impurity_split': None,\n",
      " 'min_samples_leaf': 1,\n",
      " 'min_samples_split': 2,\n",
      " 'min_weight_fraction_leaf': 0.0,\n",
      " 'n_estimators': 100,\n",
      " 'n_jobs': None,\n",
      " 'oob_score': False,\n",
      " 'random_state': None,\n",
      " 'verbose': 0,\n",
      " 'warm_start': False}\n"
     ]
    }
   ],
   "source": [
    "print('Parameters currently in use:\\n')\n",
    "pprint(rf.get_params())"
   ]
  },
  {
   "cell_type": "markdown",
   "id": "89bc4b39",
   "metadata": {},
   "source": [
    "### Hyperparameters considered for tuning:"
   ]
  },
  {
   "cell_type": "code",
   "execution_count": 21,
   "id": "01eafd83",
   "metadata": {},
   "outputs": [],
   "source": [
    "# Create the parameter grid based on the results of random search \n",
    "param_grid = {\n",
    "    'bootstrap': [True],\n",
    "    'max_depth': [80, 90, 100, 110],\n",
    "    'max_features': [2, 3],\n",
    "    'min_samples_leaf': [3, 4, 5],\n",
    "    'min_samples_split': [8, 10, 12],\n",
    "    'n_estimators': [100, 200, 300, 1000]\n",
    "}\n",
    "\n",
    "\n",
    "# Instantiate the grid search model\n",
    "grid_search = GridSearchCV(estimator = rf, param_grid = param_grid, \n",
    "                          cv = 3, n_jobs = -1, verbose = 2)"
   ]
  },
  {
   "cell_type": "code",
   "execution_count": 30,
   "id": "d39423fa",
   "metadata": {},
   "outputs": [
    {
     "name": "stdout",
     "output_type": "stream",
     "text": [
      "Fitting 3 folds for each of 288 candidates, totalling 864 fits\n"
     ]
    }
   ],
   "source": [
    "# Fit the grid search to the data\n",
    "grid_result= grid_search.fit(X_train, Y_train)\n",
    "                "
   ]
  },
  {
   "cell_type": "code",
   "execution_count": 31,
   "id": "5b93b30c",
   "metadata": {},
   "outputs": [
    {
     "name": "stdout",
     "output_type": "stream",
     "text": [
      "Best: 0.842487 using {'bootstrap': True, 'max_depth': 100, 'max_features': 3, 'min_samples_leaf': 3, 'min_samples_split': 8, 'n_estimators': 200}\n",
      "0.825108 (0.017842) with: {'bootstrap': True, 'max_depth': 80, 'max_features': 2, 'min_samples_leaf': 3, 'min_samples_split': 8, 'n_estimators': 100}\n",
      "0.832373 (0.003924) with: {'bootstrap': True, 'max_depth': 80, 'max_features': 2, 'min_samples_leaf': 3, 'min_samples_split': 8, 'n_estimators': 200}\n",
      "0.830899 (0.013111) with: {'bootstrap': True, 'max_depth': 80, 'max_features': 2, 'min_samples_leaf': 3, 'min_samples_split': 8, 'n_estimators': 300}\n",
      "0.832348 (0.014977) with: {'bootstrap': True, 'max_depth': 80, 'max_features': 2, 'min_samples_leaf': 3, 'min_samples_split': 8, 'n_estimators': 1000}\n",
      "0.825127 (0.011090) with: {'bootstrap': True, 'max_depth': 80, 'max_features': 2, 'min_samples_leaf': 3, 'min_samples_split': 10, 'n_estimators': 100}\n",
      "0.817893 (0.014493) with: {'bootstrap': True, 'max_depth': 80, 'max_features': 2, 'min_samples_leaf': 3, 'min_samples_split': 10, 'n_estimators': 200}\n",
      "0.826576 (0.006495) with: {'bootstrap': True, 'max_depth': 80, 'max_features': 2, 'min_samples_leaf': 3, 'min_samples_split': 10, 'n_estimators': 300}\n",
      "0.822235 (0.009735) with: {'bootstrap': True, 'max_depth': 80, 'max_features': 2, 'min_samples_leaf': 3, 'min_samples_split': 10, 'n_estimators': 1000}\n",
      "0.812109 (0.015130) with: {'bootstrap': True, 'max_depth': 80, 'max_features': 2, 'min_samples_leaf': 3, 'min_samples_split': 12, 'n_estimators': 100}\n",
      "0.817893 (0.012652) with: {'bootstrap': True, 'max_depth': 80, 'max_features': 2, 'min_samples_leaf': 3, 'min_samples_split': 12, 'n_estimators': 200}\n",
      "0.816444 (0.015121) with: {'bootstrap': True, 'max_depth': 80, 'max_features': 2, 'min_samples_leaf': 3, 'min_samples_split': 12, 'n_estimators': 300}\n",
      "0.823671 (0.013778) with: {'bootstrap': True, 'max_depth': 80, 'max_features': 2, 'min_samples_leaf': 3, 'min_samples_split': 12, 'n_estimators': 1000}\n",
      "0.809216 (0.015839) with: {'bootstrap': True, 'max_depth': 80, 'max_features': 2, 'min_samples_leaf': 4, 'min_samples_split': 8, 'n_estimators': 100}\n",
      "0.822241 (0.007402) with: {'bootstrap': True, 'max_depth': 80, 'max_features': 2, 'min_samples_leaf': 4, 'min_samples_split': 8, 'n_estimators': 200}\n",
      "0.819336 (0.013787) with: {'bootstrap': True, 'max_depth': 80, 'max_features': 2, 'min_samples_leaf': 4, 'min_samples_split': 8, 'n_estimators': 300}\n",
      "0.819342 (0.010603) with: {'bootstrap': True, 'max_depth': 80, 'max_features': 2, 'min_samples_leaf': 4, 'min_samples_split': 8, 'n_estimators': 1000}\n",
      "0.820817 (0.007991) with: {'bootstrap': True, 'max_depth': 80, 'max_features': 2, 'min_samples_leaf': 4, 'min_samples_split': 10, 'n_estimators': 100}\n",
      "0.812109 (0.015130) with: {'bootstrap': True, 'max_depth': 80, 'max_features': 2, 'min_samples_leaf': 4, 'min_samples_split': 10, 'n_estimators': 200}\n",
      "0.812134 (0.002431) with: {'bootstrap': True, 'max_depth': 80, 'max_features': 2, 'min_samples_leaf': 4, 'min_samples_split': 10, 'n_estimators': 300}\n",
      "0.823684 (0.007729) with: {'bootstrap': True, 'max_depth': 80, 'max_features': 2, 'min_samples_leaf': 4, 'min_samples_split': 10, 'n_estimators': 1000}\n",
      "0.803451 (0.009288) with: {'bootstrap': True, 'max_depth': 80, 'max_features': 2, 'min_samples_leaf': 4, 'min_samples_split': 12, 'n_estimators': 100}\n",
      "0.820811 (0.005342) with: {'bootstrap': True, 'max_depth': 80, 'max_features': 2, 'min_samples_leaf': 4, 'min_samples_split': 12, 'n_estimators': 200}\n",
      "0.809235 (0.007426) with: {'bootstrap': True, 'max_depth': 80, 'max_features': 2, 'min_samples_leaf': 4, 'min_samples_split': 12, 'n_estimators': 300}\n",
      "0.810672 (0.011193) with: {'bootstrap': True, 'max_depth': 80, 'max_features': 2, 'min_samples_leaf': 4, 'min_samples_split': 12, 'n_estimators': 1000}\n",
      "0.799109 (0.017005) with: {'bootstrap': True, 'max_depth': 80, 'max_features': 2, 'min_samples_leaf': 5, 'min_samples_split': 8, 'n_estimators': 100}\n",
      "0.797666 (0.012780) with: {'bootstrap': True, 'max_depth': 80, 'max_features': 2, 'min_samples_leaf': 5, 'min_samples_split': 8, 'n_estimators': 200}\n",
      "0.800546 (0.016626) with: {'bootstrap': True, 'max_depth': 80, 'max_features': 2, 'min_samples_leaf': 5, 'min_samples_split': 8, 'n_estimators': 300}\n",
      "0.809216 (0.016609) with: {'bootstrap': True, 'max_depth': 80, 'max_features': 2, 'min_samples_leaf': 5, 'min_samples_split': 8, 'n_estimators': 1000}\n",
      "0.802001 (0.010638) with: {'bootstrap': True, 'max_depth': 80, 'max_features': 2, 'min_samples_leaf': 5, 'min_samples_split': 10, 'n_estimators': 100}\n",
      "0.804881 (0.015848) with: {'bootstrap': True, 'max_depth': 80, 'max_features': 2, 'min_samples_leaf': 5, 'min_samples_split': 10, 'n_estimators': 200}\n",
      "0.815013 (0.009219) with: {'bootstrap': True, 'max_depth': 80, 'max_features': 2, 'min_samples_leaf': 5, 'min_samples_split': 10, 'n_estimators': 300}\n",
      "0.803432 (0.017886) with: {'bootstrap': True, 'max_depth': 80, 'max_features': 2, 'min_samples_leaf': 5, 'min_samples_split': 10, 'n_estimators': 1000}\n",
      "0.793350 (0.012455) with: {'bootstrap': True, 'max_depth': 80, 'max_features': 2, 'min_samples_leaf': 5, 'min_samples_split': 12, 'n_estimators': 100}\n",
      "0.803438 (0.014729) with: {'bootstrap': True, 'max_depth': 80, 'max_features': 2, 'min_samples_leaf': 5, 'min_samples_split': 12, 'n_estimators': 200}\n",
      "0.809248 (0.003556) with: {'bootstrap': True, 'max_depth': 80, 'max_features': 2, 'min_samples_leaf': 5, 'min_samples_split': 12, 'n_estimators': 300}\n",
      "0.806318 (0.020536) with: {'bootstrap': True, 'max_depth': 80, 'max_features': 2, 'min_samples_leaf': 5, 'min_samples_split': 12, 'n_estimators': 1000}\n",
      "0.836690 (0.014466) with: {'bootstrap': True, 'max_depth': 80, 'max_features': 3, 'min_samples_leaf': 3, 'min_samples_split': 8, 'n_estimators': 100}\n",
      "0.839582 (0.009582) with: {'bootstrap': True, 'max_depth': 80, 'max_features': 3, 'min_samples_leaf': 3, 'min_samples_split': 8, 'n_estimators': 200}\n",
      "0.830912 (0.009594) with: {'bootstrap': True, 'max_depth': 80, 'max_features': 3, 'min_samples_leaf': 3, 'min_samples_split': 8, 'n_estimators': 300}\n",
      "0.833798 (0.011076) with: {'bootstrap': True, 'max_depth': 80, 'max_features': 3, 'min_samples_leaf': 3, 'min_samples_split': 8, 'n_estimators': 1000}\n",
      "0.829469 (0.005744) with: {'bootstrap': True, 'max_depth': 80, 'max_features': 3, 'min_samples_leaf': 3, 'min_samples_split': 10, 'n_estimators': 100}\n",
      "0.835253 (0.006302) with: {'bootstrap': True, 'max_depth': 80, 'max_features': 3, 'min_samples_leaf': 3, 'min_samples_split': 10, 'n_estimators': 200}\n",
      "0.830893 (0.018012) with: {'bootstrap': True, 'max_depth': 80, 'max_features': 3, 'min_samples_leaf': 3, 'min_samples_split': 10, 'n_estimators': 300}\n",
      "0.835241 (0.013009) with: {'bootstrap': True, 'max_depth': 80, 'max_features': 3, 'min_samples_leaf': 3, 'min_samples_split': 10, 'n_estimators': 1000}\n",
      "0.829475 (0.004270) with: {'bootstrap': True, 'max_depth': 80, 'max_features': 3, 'min_samples_leaf': 3, 'min_samples_split': 12, 'n_estimators': 100}\n",
      "0.830912 (0.009594) with: {'bootstrap': True, 'max_depth': 80, 'max_features': 3, 'min_samples_leaf': 3, 'min_samples_split': 12, 'n_estimators': 200}\n",
      "0.836696 (0.005665) with: {'bootstrap': True, 'max_depth': 80, 'max_features': 3, 'min_samples_leaf': 3, 'min_samples_split': 12, 'n_estimators': 300}\n",
      "0.833804 (0.007608) with: {'bootstrap': True, 'max_depth': 80, 'max_features': 3, 'min_samples_leaf': 3, 'min_samples_split': 12, 'n_estimators': 1000}\n",
      "0.828032 (0.002239) with: {'bootstrap': True, 'max_depth': 80, 'max_features': 3, 'min_samples_leaf': 4, 'min_samples_split': 8, 'n_estimators': 100}\n",
      "0.825114 (0.015104) with: {'bootstrap': True, 'max_depth': 80, 'max_features': 3, 'min_samples_leaf': 4, 'min_samples_split': 8, 'n_estimators': 200}\n",
      "0.816444 (0.015121) with: {'bootstrap': True, 'max_depth': 80, 'max_features': 3, 'min_samples_leaf': 4, 'min_samples_split': 8, 'n_estimators': 300}\n",
      "0.830912 (0.009594) with: {'bootstrap': True, 'max_depth': 80, 'max_features': 3, 'min_samples_leaf': 4, 'min_samples_split': 8, 'n_estimators': 1000}\n",
      "0.814995 (0.019826) with: {'bootstrap': True, 'max_depth': 80, 'max_features': 3, 'min_samples_leaf': 4, 'min_samples_split': 10, 'n_estimators': 100}\n",
      "0.826558 (0.015804) with: {'bootstrap': True, 'max_depth': 80, 'max_features': 3, 'min_samples_leaf': 4, 'min_samples_split': 10, 'n_estimators': 200}\n",
      "0.822228 (0.013128) with: {'bootstrap': True, 'max_depth': 80, 'max_features': 3, 'min_samples_leaf': 4, 'min_samples_split': 10, 'n_estimators': 300}\n",
      "0.822216 (0.018783) with: {'bootstrap': True, 'max_depth': 80, 'max_features': 3, 'min_samples_leaf': 4, 'min_samples_split': 10, 'n_estimators': 1000}\n",
      "0.816469 (0.002422) with: {'bootstrap': True, 'max_depth': 80, 'max_features': 3, 'min_samples_leaf': 4, 'min_samples_split': 12, 'n_estimators': 100}\n",
      "0.817899 (0.010951) with: {'bootstrap': True, 'max_depth': 80, 'max_features': 3, 'min_samples_leaf': 4, 'min_samples_split': 12, 'n_estimators': 200}\n",
      "0.828032 (0.002239) with: {'bootstrap': True, 'max_depth': 80, 'max_features': 3, 'min_samples_leaf': 4, 'min_samples_split': 12, 'n_estimators': 300}\n",
      "0.828026 (0.005679) with: {'bootstrap': True, 'max_depth': 80, 'max_features': 3, 'min_samples_leaf': 4, 'min_samples_split': 12, 'n_estimators': 1000}\n",
      "0.815020 (0.008365) with: {'bootstrap': True, 'max_depth': 80, 'max_features': 3, 'min_samples_leaf': 5, 'min_samples_split': 8, 'n_estimators': 100}\n",
      "0.815020 (0.014829) with: {'bootstrap': True, 'max_depth': 80, 'max_features': 3, 'min_samples_leaf': 5, 'min_samples_split': 8, 'n_estimators': 200}\n",
      "0.822241 (0.007402) with: {'bootstrap': True, 'max_depth': 80, 'max_features': 3, 'min_samples_leaf': 5, 'min_samples_split': 8, 'n_estimators': 300}\n",
      "0.820798 (0.005761) with: {'bootstrap': True, 'max_depth': 80, 'max_features': 3, 'min_samples_leaf': 5, 'min_samples_split': 8, 'n_estimators': 1000}\n",
      "0.816469 (0.007473) with: {'bootstrap': True, 'max_depth': 80, 'max_features': 3, 'min_samples_leaf': 5, 'min_samples_split': 10, 'n_estimators': 100}\n",
      "0.819330 (0.016743) with: {'bootstrap': True, 'max_depth': 80, 'max_features': 3, 'min_samples_leaf': 5, 'min_samples_split': 10, 'n_estimators': 200}\n",
      "0.816469 (0.002422) with: {'bootstrap': True, 'max_depth': 80, 'max_features': 3, 'min_samples_leaf': 5, 'min_samples_split': 10, 'n_estimators': 300}\n",
      "0.812096 (0.021148) with: {'bootstrap': True, 'max_depth': 80, 'max_features': 3, 'min_samples_leaf': 5, 'min_samples_split': 10, 'n_estimators': 1000}\n",
      "0.812127 (0.016830) with: {'bootstrap': True, 'max_depth': 80, 'max_features': 3, 'min_samples_leaf': 5, 'min_samples_split': 12, 'n_estimators': 100}\n",
      "0.819342 (0.011176) with: {'bootstrap': True, 'max_depth': 80, 'max_features': 3, 'min_samples_leaf': 5, 'min_samples_split': 12, 'n_estimators': 200}\n",
      "0.804894 (0.009770) with: {'bootstrap': True, 'max_depth': 80, 'max_features': 3, 'min_samples_leaf': 5, 'min_samples_split': 12, 'n_estimators': 300}\n",
      "0.817893 (0.013137) with: {'bootstrap': True, 'max_depth': 80, 'max_features': 3, 'min_samples_leaf': 5, 'min_samples_split': 12, 'n_estimators': 1000}\n",
      "0.816463 (0.013535) with: {'bootstrap': True, 'max_depth': 90, 'max_features': 2, 'min_samples_leaf': 3, 'min_samples_split': 8, 'n_estimators': 100}\n",
      "0.828013 (0.010585) with: {'bootstrap': True, 'max_depth': 90, 'max_features': 2, 'min_samples_leaf': 3, 'min_samples_split': 8, 'n_estimators': 200}\n",
      "0.832348 (0.011151) with: {'bootstrap': True, 'max_depth': 90, 'max_features': 2, 'min_samples_leaf': 3, 'min_samples_split': 8, 'n_estimators': 300}\n",
      "0.825133 (0.005753) with: {'bootstrap': True, 'max_depth': 90, 'max_features': 2, 'min_samples_leaf': 3, 'min_samples_split': 8, 'n_estimators': 1000}\n",
      "0.822216 (0.020070) with: {'bootstrap': True, 'max_depth': 90, 'max_features': 2, 'min_samples_leaf': 3, 'min_samples_split': 10, 'n_estimators': 100}\n",
      "0.813564 (0.009753) with: {'bootstrap': True, 'max_depth': 90, 'max_features': 2, 'min_samples_leaf': 3, 'min_samples_split': 10, 'n_estimators': 200}\n",
      "0.819324 (0.021694) with: {'bootstrap': True, 'max_depth': 90, 'max_features': 2, 'min_samples_leaf': 3, 'min_samples_split': 10, 'n_estimators': 300}\n",
      "0.828019 (0.009197) with: {'bootstrap': True, 'max_depth': 90, 'max_features': 2, 'min_samples_leaf': 3, 'min_samples_split': 10, 'n_estimators': 1000}\n",
      "0.809216 (0.018051) with: {'bootstrap': True, 'max_depth': 90, 'max_features': 2, 'min_samples_leaf': 3, 'min_samples_split': 12, 'n_estimators': 100}\n",
      "0.828013 (0.010585) with: {'bootstrap': True, 'max_depth': 90, 'max_features': 2, 'min_samples_leaf': 3, 'min_samples_split': 12, 'n_estimators': 200}\n",
      "0.825133 (0.005753) with: {'bootstrap': True, 'max_depth': 90, 'max_features': 2, 'min_samples_leaf': 3, 'min_samples_split': 12, 'n_estimators': 300}\n",
      "0.822228 (0.012644) with: {'bootstrap': True, 'max_depth': 90, 'max_features': 2, 'min_samples_leaf': 3, 'min_samples_split': 12, 'n_estimators': 1000}\n",
      "0.806337 (0.010629) with: {'bootstrap': True, 'max_depth': 90, 'max_features': 2, 'min_samples_leaf': 4, 'min_samples_split': 8, 'n_estimators': 100}\n",
      "0.820785 (0.012775) with: {'bootstrap': True, 'max_depth': 90, 'max_features': 2, 'min_samples_leaf': 4, 'min_samples_split': 8, 'n_estimators': 200}\n",
      "0.819336 (0.013787) with: {'bootstrap': True, 'max_depth': 90, 'max_features': 2, 'min_samples_leaf': 4, 'min_samples_split': 8, 'n_estimators': 300}\n",
      "0.819349 (0.007737) with: {'bootstrap': True, 'max_depth': 90, 'max_features': 2, 'min_samples_leaf': 4, 'min_samples_split': 8, 'n_estimators': 1000}\n",
      "0.817899 (0.009744) with: {'bootstrap': True, 'max_depth': 90, 'max_features': 2, 'min_samples_leaf': 4, 'min_samples_split': 10, 'n_estimators': 100}\n",
      "0.817899 (0.010951) with: {'bootstrap': True, 'max_depth': 90, 'max_features': 2, 'min_samples_leaf': 4, 'min_samples_split': 10, 'n_estimators': 200}\n",
      "0.817899 (0.010951) with: {'bootstrap': True, 'max_depth': 90, 'max_features': 2, 'min_samples_leaf': 4, 'min_samples_split': 10, 'n_estimators': 300}\n",
      "0.812102 (0.017868) with: {'bootstrap': True, 'max_depth': 90, 'max_features': 2, 'min_samples_leaf': 4, 'min_samples_split': 10, 'n_estimators': 1000}\n",
      "0.810684 (0.005707) with: {'bootstrap': True, 'max_depth': 90, 'max_features': 2, 'min_samples_leaf': 4, 'min_samples_split': 12, 'n_estimators': 100}\n",
      "0.797666 (0.011219) with: {'bootstrap': True, 'max_depth': 90, 'max_features': 2, 'min_samples_leaf': 4, 'min_samples_split': 12, 'n_estimators': 200}\n",
      "0.812127 (0.010409) with: {'bootstrap': True, 'max_depth': 90, 'max_features': 2, 'min_samples_leaf': 4, 'min_samples_split': 12, 'n_estimators': 300}\n",
      "0.819342 (0.010603) with: {'bootstrap': True, 'max_depth': 90, 'max_features': 2, 'min_samples_leaf': 4, 'min_samples_split': 12, 'n_estimators': 1000}\n",
      "0.794755 (0.023424) with: {'bootstrap': True, 'max_depth': 90, 'max_features': 2, 'min_samples_leaf': 5, 'min_samples_split': 8, 'n_estimators': 100}\n",
      "0.815026 (0.002256) with: {'bootstrap': True, 'max_depth': 90, 'max_features': 2, 'min_samples_leaf': 5, 'min_samples_split': 8, 'n_estimators': 200}\n",
      "0.799090 (0.021174) with: {'bootstrap': True, 'max_depth': 90, 'max_features': 2, 'min_samples_leaf': 5, 'min_samples_split': 8, 'n_estimators': 300}\n",
      "0.812109 (0.015130) with: {'bootstrap': True, 'max_depth': 90, 'max_features': 2, 'min_samples_leaf': 5, 'min_samples_split': 8, 'n_estimators': 1000}\n",
      "0.800577 (0.007081) with: {'bootstrap': True, 'max_depth': 90, 'max_features': 2, 'min_samples_leaf': 5, 'min_samples_split': 10, 'n_estimators': 100}\n",
      "0.799122 (0.007659) with: {'bootstrap': True, 'max_depth': 90, 'max_features': 2, 'min_samples_leaf': 5, 'min_samples_split': 10, 'n_estimators': 200}\n",
      "0.803444 (0.012808) with: {'bootstrap': True, 'max_depth': 90, 'max_features': 2, 'min_samples_leaf': 5, 'min_samples_split': 10, 'n_estimators': 300}\n",
      "0.810666 (0.014681) with: {'bootstrap': True, 'max_depth': 90, 'max_features': 2, 'min_samples_leaf': 5, 'min_samples_split': 10, 'n_estimators': 1000}\n",
      "0.804881 (0.015848) with: {'bootstrap': True, 'max_depth': 90, 'max_features': 2, 'min_samples_leaf': 5, 'min_samples_split': 12, 'n_estimators': 100}\n",
      "0.803451 (0.009288) with: {'bootstrap': True, 'max_depth': 90, 'max_features': 2, 'min_samples_leaf': 5, 'min_samples_split': 12, 'n_estimators': 200}\n",
      "0.803426 (0.021166) with: {'bootstrap': True, 'max_depth': 90, 'max_features': 2, 'min_samples_leaf': 5, 'min_samples_split': 12, 'n_estimators': 300}\n",
      "0.801989 (0.017146) with: {'bootstrap': True, 'max_depth': 90, 'max_features': 2, 'min_samples_leaf': 5, 'min_samples_split': 12, 'n_estimators': 1000}\n",
      "0.839582 (0.009582) with: {'bootstrap': True, 'max_depth': 90, 'max_features': 3, 'min_samples_leaf': 3, 'min_samples_split': 8, 'n_estimators': 100}\n",
      "0.841006 (0.018133) with: {'bootstrap': True, 'max_depth': 90, 'max_features': 3, 'min_samples_leaf': 3, 'min_samples_split': 8, 'n_estimators': 200}\n",
      "0.830905 (0.009718) with: {'bootstrap': True, 'max_depth': 90, 'max_features': 3, 'min_samples_leaf': 3, 'min_samples_split': 8, 'n_estimators': 300}\n",
      "0.838139 (0.010381) with: {'bootstrap': True, 'max_depth': 90, 'max_features': 3, 'min_samples_leaf': 3, 'min_samples_split': 8, 'n_estimators': 1000}\n",
      "0.828032 (0.008943) with: {'bootstrap': True, 'max_depth': 90, 'max_features': 3, 'min_samples_leaf': 3, 'min_samples_split': 10, 'n_estimators': 100}\n",
      "0.832336 (0.016716) with: {'bootstrap': True, 'max_depth': 90, 'max_features': 3, 'min_samples_leaf': 3, 'min_samples_split': 10, 'n_estimators': 200}\n",
      "0.830905 (0.010928) with: {'bootstrap': True, 'max_depth': 90, 'max_features': 3, 'min_samples_leaf': 3, 'min_samples_split': 10, 'n_estimators': 300}\n",
      "0.830905 (0.009718) with: {'bootstrap': True, 'max_depth': 90, 'max_features': 3, 'min_samples_leaf': 3, 'min_samples_split': 10, 'n_estimators': 1000}\n",
      "0.835234 (0.013103) with: {'bootstrap': True, 'max_depth': 90, 'max_features': 3, 'min_samples_leaf': 3, 'min_samples_split': 12, 'n_estimators': 100}\n",
      "0.830899 (0.012626) with: {'bootstrap': True, 'max_depth': 90, 'max_features': 3, 'min_samples_leaf': 3, 'min_samples_split': 12, 'n_estimators': 200}\n",
      "0.825114 (0.014684) with: {'bootstrap': True, 'max_depth': 90, 'max_features': 3, 'min_samples_leaf': 3, 'min_samples_split': 12, 'n_estimators': 300}\n",
      "0.835247 (0.007379) with: {'bootstrap': True, 'max_depth': 90, 'max_features': 3, 'min_samples_leaf': 3, 'min_samples_split': 12, 'n_estimators': 1000}\n",
      "0.828007 (0.013769) with: {'bootstrap': True, 'max_depth': 90, 'max_features': 3, 'min_samples_leaf': 4, 'min_samples_split': 8, 'n_estimators': 100}\n",
      "0.826583 (0.003854) with: {'bootstrap': True, 'max_depth': 90, 'max_features': 3, 'min_samples_leaf': 4, 'min_samples_split': 8, 'n_estimators': 200}\n",
      "0.826570 (0.010936) with: {'bootstrap': True, 'max_depth': 90, 'max_features': 3, 'min_samples_leaf': 4, 'min_samples_split': 8, 'n_estimators': 300}\n",
      "0.825127 (0.009247) with: {'bootstrap': True, 'max_depth': 90, 'max_features': 3, 'min_samples_leaf': 4, 'min_samples_split': 8, 'n_estimators': 1000}\n",
      "0.822247 (0.003862) with: {'bootstrap': True, 'max_depth': 90, 'max_features': 3, 'min_samples_leaf': 4, 'min_samples_split': 10, 'n_estimators': 100}\n",
      "0.820773 (0.017851) with: {'bootstrap': True, 'max_depth': 90, 'max_features': 3, 'min_samples_leaf': 4, 'min_samples_split': 10, 'n_estimators': 200}\n",
      "0.817912 (0.006322) with: {'bootstrap': True, 'max_depth': 90, 'max_features': 3, 'min_samples_leaf': 4, 'min_samples_split': 10, 'n_estimators': 300}\n",
      "0.826564 (0.013120) with: {'bootstrap': True, 'max_depth': 90, 'max_features': 3, 'min_samples_leaf': 4, 'min_samples_split': 10, 'n_estimators': 1000}\n",
      "0.817893 (0.013137) with: {'bootstrap': True, 'max_depth': 90, 'max_features': 3, 'min_samples_leaf': 4, 'min_samples_split': 12, 'n_estimators': 100}\n",
      "0.822241 (0.006504) with: {'bootstrap': True, 'max_depth': 90, 'max_features': 3, 'min_samples_leaf': 4, 'min_samples_split': 12, 'n_estimators': 200}\n",
      "0.822247 (0.006317) with: {'bootstrap': True, 'max_depth': 90, 'max_features': 3, 'min_samples_leaf': 4, 'min_samples_split': 12, 'n_estimators': 300}\n",
      "0.823684 (0.007729) with: {'bootstrap': True, 'max_depth': 90, 'max_features': 3, 'min_samples_leaf': 4, 'min_samples_split': 12, 'n_estimators': 1000}\n",
      "0.816482 (0.003718) with: {'bootstrap': True, 'max_depth': 90, 'max_features': 3, 'min_samples_leaf': 5, 'min_samples_split': 8, 'n_estimators': 100}\n",
      "0.807773 (0.016329) with: {'bootstrap': True, 'max_depth': 90, 'max_features': 3, 'min_samples_leaf': 5, 'min_samples_split': 8, 'n_estimators': 200}\n",
      "0.812127 (0.016830) with: {'bootstrap': True, 'max_depth': 90, 'max_features': 3, 'min_samples_leaf': 5, 'min_samples_split': 8, 'n_estimators': 300}\n",
      "0.817899 (0.009744) with: {'bootstrap': True, 'max_depth': 90, 'max_features': 3, 'min_samples_leaf': 5, 'min_samples_split': 8, 'n_estimators': 1000}\n",
      "0.813583 (0.007080) with: {'bootstrap': True, 'max_depth': 90, 'max_features': 3, 'min_samples_leaf': 5, 'min_samples_split': 10, 'n_estimators': 100}\n",
      "0.804881 (0.015848) with: {'bootstrap': True, 'max_depth': 90, 'max_features': 3, 'min_samples_leaf': 5, 'min_samples_split': 10, 'n_estimators': 200}\n",
      "0.813558 (0.012661) with: {'bootstrap': True, 'max_depth': 90, 'max_features': 3, 'min_samples_leaf': 5, 'min_samples_split': 10, 'n_estimators': 300}\n",
      "0.816444 (0.014702) with: {'bootstrap': True, 'max_depth': 90, 'max_features': 3, 'min_samples_leaf': 5, 'min_samples_split': 10, 'n_estimators': 1000}\n",
      "0.807773 (0.016329) with: {'bootstrap': True, 'max_depth': 90, 'max_features': 3, 'min_samples_leaf': 5, 'min_samples_split': 12, 'n_estimators': 100}\n",
      "0.819349 (0.007737) with: {'bootstrap': True, 'max_depth': 90, 'max_features': 3, 'min_samples_leaf': 5, 'min_samples_split': 12, 'n_estimators': 200}\n",
      "0.812121 (0.009271) with: {'bootstrap': True, 'max_depth': 90, 'max_features': 3, 'min_samples_leaf': 5, 'min_samples_split': 12, 'n_estimators': 300}\n",
      "0.813558 (0.012661) with: {'bootstrap': True, 'max_depth': 90, 'max_features': 3, 'min_samples_leaf': 5, 'min_samples_split': 12, 'n_estimators': 1000}\n",
      "0.826570 (0.009727) with: {'bootstrap': True, 'max_depth': 100, 'max_features': 2, 'min_samples_leaf': 3, 'min_samples_split': 8, 'n_estimators': 100}\n",
      "0.829444 (0.017833) with: {'bootstrap': True, 'max_depth': 100, 'max_features': 2, 'min_samples_leaf': 3, 'min_samples_split': 8, 'n_estimators': 200}\n",
      "0.828019 (0.009197) with: {'bootstrap': True, 'max_depth': 100, 'max_features': 2, 'min_samples_leaf': 3, 'min_samples_split': 8, 'n_estimators': 300}\n",
      "0.826564 (0.014478) with: {'bootstrap': True, 'max_depth': 100, 'max_features': 2, 'min_samples_leaf': 3, 'min_samples_split': 8, 'n_estimators': 1000}\n",
      "0.816438 (0.019848) with: {'bootstrap': True, 'max_depth': 100, 'max_features': 2, 'min_samples_leaf': 3, 'min_samples_split': 10, 'n_estimators': 100}\n",
      "0.817887 (0.018035) with: {'bootstrap': True, 'max_depth': 100, 'max_features': 2, 'min_samples_leaf': 3, 'min_samples_split': 10, 'n_estimators': 200}\n",
      "0.830905 (0.010928) with: {'bootstrap': True, 'max_depth': 100, 'max_features': 2, 'min_samples_leaf': 3, 'min_samples_split': 10, 'n_estimators': 300}\n",
      "0.825127 (0.008544) with: {'bootstrap': True, 'max_depth': 100, 'max_features': 2, 'min_samples_leaf': 3, 'min_samples_split': 10, 'n_estimators': 1000}\n",
      "0.817893 (0.012652) with: {'bootstrap': True, 'max_depth': 100, 'max_features': 2, 'min_samples_leaf': 3, 'min_samples_split': 12, 'n_estimators': 100}\n",
      "0.823678 (0.012736) with: {'bootstrap': True, 'max_depth': 100, 'max_features': 2, 'min_samples_leaf': 3, 'min_samples_split': 12, 'n_estimators': 200}\n",
      "0.819349 (0.007737) with: {'bootstrap': True, 'max_depth': 100, 'max_features': 2, 'min_samples_leaf': 3, 'min_samples_split': 12, 'n_estimators': 300}\n",
      "0.825127 (0.009247) with: {'bootstrap': True, 'max_depth': 100, 'max_features': 2, 'min_samples_leaf': 3, 'min_samples_split': 12, 'n_estimators': 1000}\n",
      "0.810691 (0.005486) with: {'bootstrap': True, 'max_depth': 100, 'max_features': 2, 'min_samples_leaf': 4, 'min_samples_split': 8, 'n_estimators': 100}\n",
      "0.820798 (0.005761) with: {'bootstrap': True, 'max_depth': 100, 'max_features': 2, 'min_samples_leaf': 4, 'min_samples_split': 8, 'n_estimators': 200}\n",
      "0.813539 (0.021942) with: {'bootstrap': True, 'max_depth': 100, 'max_features': 2, 'min_samples_leaf': 4, 'min_samples_split': 8, 'n_estimators': 300}\n",
      "0.816444 (0.014702) with: {'bootstrap': True, 'max_depth': 100, 'max_features': 2, 'min_samples_leaf': 4, 'min_samples_split': 8, 'n_estimators': 1000}\n",
      "0.819342 (0.011176) with: {'bootstrap': True, 'max_depth': 100, 'max_features': 2, 'min_samples_leaf': 4, 'min_samples_split': 10, 'n_estimators': 100}\n",
      "0.816450 (0.011766) with: {'bootstrap': True, 'max_depth': 100, 'max_features': 2, 'min_samples_leaf': 4, 'min_samples_split': 10, 'n_estimators': 200}\n",
      "0.812127 (0.007640) with: {'bootstrap': True, 'max_depth': 100, 'max_features': 2, 'min_samples_leaf': 4, 'min_samples_split': 10, 'n_estimators': 300}\n",
      "0.820798 (0.005761) with: {'bootstrap': True, 'max_depth': 100, 'max_features': 2, 'min_samples_leaf': 4, 'min_samples_split': 10, 'n_estimators': 1000}\n",
      "0.802033 (0.013238) with: {'bootstrap': True, 'max_depth': 100, 'max_features': 2, 'min_samples_leaf': 4, 'min_samples_split': 12, 'n_estimators': 100}\n",
      "0.813564 (0.009753) with: {'bootstrap': True, 'max_depth': 100, 'max_features': 2, 'min_samples_leaf': 4, 'min_samples_split': 12, 'n_estimators': 200}\n",
      "0.816450 (0.012783) with: {'bootstrap': True, 'max_depth': 100, 'max_features': 2, 'min_samples_leaf': 4, 'min_samples_split': 12, 'n_estimators': 300}\n",
      "0.826570 (0.009727) with: {'bootstrap': True, 'max_depth': 100, 'max_features': 2, 'min_samples_leaf': 4, 'min_samples_split': 12, 'n_estimators': 1000}\n",
      "0.804900 (0.009630) with: {'bootstrap': True, 'max_depth': 100, 'max_features': 2, 'min_samples_leaf': 5, 'min_samples_split': 8, 'n_estimators': 100}\n",
      "0.813564 (0.009753) with: {'bootstrap': True, 'max_depth': 100, 'max_features': 2, 'min_samples_leaf': 5, 'min_samples_split': 8, 'n_estimators': 200}\n",
      "0.804881 (0.016617) with: {'bootstrap': True, 'max_depth': 100, 'max_features': 2, 'min_samples_leaf': 5, 'min_samples_split': 8, 'n_estimators': 300}\n",
      "0.809223 (0.012670) with: {'bootstrap': True, 'max_depth': 100, 'max_features': 2, 'min_samples_leaf': 5, 'min_samples_split': 8, 'n_estimators': 1000}\n",
      "0.797685 (0.005493) with: {'bootstrap': True, 'max_depth': 100, 'max_features': 2, 'min_samples_leaf': 5, 'min_samples_split': 10, 'n_estimators': 100}\n",
      "0.803444 (0.012808) with: {'bootstrap': True, 'max_depth': 100, 'max_features': 2, 'min_samples_leaf': 5, 'min_samples_split': 10, 'n_estimators': 200}\n",
      "0.802008 (0.009241) with: {'bootstrap': True, 'max_depth': 100, 'max_features': 2, 'min_samples_leaf': 5, 'min_samples_split': 10, 'n_estimators': 300}\n",
      "0.813558 (0.012661) with: {'bootstrap': True, 'max_depth': 100, 'max_features': 2, 'min_samples_leaf': 5, 'min_samples_split': 10, 'n_estimators': 1000}\n",
      "0.794793 (0.010887) with: {'bootstrap': True, 'max_depth': 100, 'max_features': 2, 'min_samples_leaf': 5, 'min_samples_split': 12, 'n_estimators': 100}\n",
      "0.810672 (0.010621) with: {'bootstrap': True, 'max_depth': 100, 'max_features': 2, 'min_samples_leaf': 5, 'min_samples_split': 12, 'n_estimators': 200}\n",
      "0.799097 (0.017895) with: {'bootstrap': True, 'max_depth': 100, 'max_features': 2, 'min_samples_leaf': 5, 'min_samples_split': 12, 'n_estimators': 300}\n",
      "0.803438 (0.015147) with: {'bootstrap': True, 'max_depth': 100, 'max_features': 2, 'min_samples_leaf': 5, 'min_samples_split': 12, 'n_estimators': 1000}\n",
      "0.838133 (0.009222) with: {'bootstrap': True, 'max_depth': 100, 'max_features': 3, 'min_samples_leaf': 3, 'min_samples_split': 8, 'n_estimators': 100}\n",
      "0.842487 (0.001901) with: {'bootstrap': True, 'max_depth': 100, 'max_features': 3, 'min_samples_leaf': 3, 'min_samples_split': 8, 'n_estimators': 200}\n",
      "0.839582 (0.006468) with: {'bootstrap': True, 'max_depth': 100, 'max_features': 3, 'min_samples_leaf': 3, 'min_samples_split': 8, 'n_estimators': 300}\n",
      "0.838139 (0.005727) with: {'bootstrap': True, 'max_depth': 100, 'max_features': 3, 'min_samples_leaf': 3, 'min_samples_split': 8, 'n_estimators': 1000}\n",
      "0.829487 (0.011245) with: {'bootstrap': True, 'max_depth': 100, 'max_features': 3, 'min_samples_leaf': 3, 'min_samples_split': 10, 'n_estimators': 100}\n",
      "0.836690 (0.009183) with: {'bootstrap': True, 'max_depth': 100, 'max_features': 3, 'min_samples_leaf': 3, 'min_samples_split': 10, 'n_estimators': 200}\n",
      "0.833798 (0.009230) with: {'bootstrap': True, 'max_depth': 100, 'max_features': 3, 'min_samples_leaf': 3, 'min_samples_split': 10, 'n_estimators': 300}\n",
      "0.832348 (0.011151) with: {'bootstrap': True, 'max_depth': 100, 'max_features': 3, 'min_samples_leaf': 3, 'min_samples_split': 10, 'n_estimators': 1000}\n",
      "0.825121 (0.012767) with: {'bootstrap': True, 'max_depth': 100, 'max_features': 3, 'min_samples_leaf': 3, 'min_samples_split': 12, 'n_estimators': 100}\n",
      "0.825121 (0.011748) with: {'bootstrap': True, 'max_depth': 100, 'max_features': 3, 'min_samples_leaf': 3, 'min_samples_split': 12, 'n_estimators': 200}\n",
      "0.830905 (0.010928) with: {'bootstrap': True, 'max_depth': 100, 'max_features': 3, 'min_samples_leaf': 3, 'min_samples_split': 12, 'n_estimators': 300}\n",
      "0.830899 (0.014470) with: {'bootstrap': True, 'max_depth': 100, 'max_features': 3, 'min_samples_leaf': 3, 'min_samples_split': 12, 'n_estimators': 1000}\n",
      "0.826558 (0.016575) with: {'bootstrap': True, 'max_depth': 100, 'max_features': 3, 'min_samples_leaf': 4, 'min_samples_split': 8, 'n_estimators': 100}\n",
      "0.822235 (0.009735) with: {'bootstrap': True, 'max_depth': 100, 'max_features': 3, 'min_samples_leaf': 4, 'min_samples_split': 8, 'n_estimators': 200}\n",
      "0.833804 (0.007608) with: {'bootstrap': True, 'max_depth': 100, 'max_features': 3, 'min_samples_leaf': 4, 'min_samples_split': 8, 'n_estimators': 300}\n",
      "0.825121 (0.011748) with: {'bootstrap': True, 'max_depth': 100, 'max_features': 3, 'min_samples_leaf': 4, 'min_samples_split': 8, 'n_estimators': 1000}\n",
      "0.812096 (0.020851) with: {'bootstrap': True, 'max_depth': 100, 'max_features': 3, 'min_samples_leaf': 4, 'min_samples_split': 10, 'n_estimators': 100}\n",
      "0.820792 (0.009255) with: {'bootstrap': True, 'max_depth': 100, 'max_features': 3, 'min_samples_leaf': 4, 'min_samples_split': 10, 'n_estimators': 200}\n",
      "0.822241 (0.006504) with: {'bootstrap': True, 'max_depth': 100, 'max_features': 3, 'min_samples_leaf': 4, 'min_samples_split': 10, 'n_estimators': 300}\n",
      "0.823678 (0.010594) with: {'bootstrap': True, 'max_depth': 100, 'max_features': 3, 'min_samples_leaf': 4, 'min_samples_split': 10, 'n_estimators': 1000}\n",
      "0.813552 (0.018043) with: {'bootstrap': True, 'max_depth': 100, 'max_features': 3, 'min_samples_leaf': 4, 'min_samples_split': 12, 'n_estimators': 100}\n",
      "0.817899 (0.009744) with: {'bootstrap': True, 'max_depth': 100, 'max_features': 3, 'min_samples_leaf': 4, 'min_samples_split': 12, 'n_estimators': 200}\n",
      "0.817899 (0.009744) with: {'bootstrap': True, 'max_depth': 100, 'max_features': 3, 'min_samples_leaf': 4, 'min_samples_split': 12, 'n_estimators': 300}\n",
      "0.823678 (0.011168) with: {'bootstrap': True, 'max_depth': 100, 'max_features': 3, 'min_samples_leaf': 4, 'min_samples_split': 12, 'n_estimators': 1000}\n",
      "0.806337 (0.015014) with: {'bootstrap': True, 'max_depth': 100, 'max_features': 3, 'min_samples_leaf': 5, 'min_samples_split': 8, 'n_estimators': 100}\n",
      "0.807786 (0.011117) with: {'bootstrap': True, 'max_depth': 100, 'max_features': 3, 'min_samples_leaf': 5, 'min_samples_split': 8, 'n_estimators': 200}\n",
      "0.828007 (0.013769) with: {'bootstrap': True, 'max_depth': 100, 'max_features': 3, 'min_samples_leaf': 5, 'min_samples_split': 8, 'n_estimators': 300}\n",
      "0.817893 (0.013137) with: {'bootstrap': True, 'max_depth': 100, 'max_features': 3, 'min_samples_leaf': 5, 'min_samples_split': 8, 'n_estimators': 1000}\n",
      "0.812121 (0.009271) with: {'bootstrap': True, 'max_depth': 100, 'max_features': 3, 'min_samples_leaf': 5, 'min_samples_split': 10, 'n_estimators': 100}\n",
      "0.823697 (0.002245) with: {'bootstrap': True, 'max_depth': 100, 'max_features': 3, 'min_samples_leaf': 5, 'min_samples_split': 10, 'n_estimators': 200}\n",
      "0.817906 (0.007410) with: {'bootstrap': True, 'max_depth': 100, 'max_features': 3, 'min_samples_leaf': 5, 'min_samples_split': 10, 'n_estimators': 300}\n",
      "0.819336 (0.013787) with: {'bootstrap': True, 'max_depth': 100, 'max_features': 3, 'min_samples_leaf': 5, 'min_samples_split': 10, 'n_estimators': 1000}\n",
      "0.807761 (0.022025) with: {'bootstrap': True, 'max_depth': 100, 'max_features': 3, 'min_samples_leaf': 5, 'min_samples_split': 12, 'n_estimators': 100}\n",
      "0.823671 (0.013778) with: {'bootstrap': True, 'max_depth': 100, 'max_features': 3, 'min_samples_leaf': 5, 'min_samples_split': 12, 'n_estimators': 200}\n",
      "0.819342 (0.012743) with: {'bootstrap': True, 'max_depth': 100, 'max_features': 3, 'min_samples_leaf': 5, 'min_samples_split': 12, 'n_estimators': 300}\n",
      "0.817899 (0.009744) with: {'bootstrap': True, 'max_depth': 100, 'max_features': 3, 'min_samples_leaf': 5, 'min_samples_split': 12, 'n_estimators': 1000}\n",
      "0.826564 (0.014478) with: {'bootstrap': True, 'max_depth': 110, 'max_features': 2, 'min_samples_leaf': 3, 'min_samples_split': 8, 'n_estimators': 100}\n",
      "0.823684 (0.009204) with: {'bootstrap': True, 'max_depth': 110, 'max_features': 2, 'min_samples_leaf': 3, 'min_samples_split': 8, 'n_estimators': 200}\n",
      "0.828001 (0.017094) with: {'bootstrap': True, 'max_depth': 110, 'max_features': 2, 'min_samples_leaf': 3, 'min_samples_split': 8, 'n_estimators': 300}\n",
      "0.826564 (0.013120) with: {'bootstrap': True, 'max_depth': 110, 'max_features': 2, 'min_samples_leaf': 3, 'min_samples_split': 8, 'n_estimators': 1000}\n",
      "0.817899 (0.010951) with: {'bootstrap': True, 'max_depth': 110, 'max_features': 2, 'min_samples_leaf': 3, 'min_samples_split': 10, 'n_estimators': 100}\n",
      "0.825121 (0.011748) with: {'bootstrap': True, 'max_depth': 110, 'max_features': 2, 'min_samples_leaf': 3, 'min_samples_split': 10, 'n_estimators': 200}\n",
      "0.825121 (0.011748) with: {'bootstrap': True, 'max_depth': 110, 'max_features': 2, 'min_samples_leaf': 3, 'min_samples_split': 10, 'n_estimators': 300}\n",
      "0.828019 (0.007720) with: {'bootstrap': True, 'max_depth': 110, 'max_features': 2, 'min_samples_leaf': 3, 'min_samples_split': 10, 'n_estimators': 1000}\n",
      "0.813570 (0.015570) with: {'bootstrap': True, 'max_depth': 110, 'max_features': 2, 'min_samples_leaf': 3, 'min_samples_split': 12, 'n_estimators': 100}\n",
      "0.822228 (0.014486) with: {'bootstrap': True, 'max_depth': 110, 'max_features': 2, 'min_samples_leaf': 3, 'min_samples_split': 12, 'n_estimators': 200}\n",
      "0.823690 (0.004454) with: {'bootstrap': True, 'max_depth': 110, 'max_features': 2, 'min_samples_leaf': 3, 'min_samples_split': 12, 'n_estimators': 300}\n",
      "0.823690 (0.004454) with: {'bootstrap': True, 'max_depth': 110, 'max_features': 2, 'min_samples_leaf': 3, 'min_samples_split': 12, 'n_estimators': 1000}\n",
      "0.820779 (0.015112) with: {'bootstrap': True, 'max_depth': 110, 'max_features': 2, 'min_samples_leaf': 4, 'min_samples_split': 8, 'n_estimators': 100}\n",
      "0.812127 (0.007640) with: {'bootstrap': True, 'max_depth': 110, 'max_features': 2, 'min_samples_leaf': 4, 'min_samples_split': 8, 'n_estimators': 200}\n",
      "0.813564 (0.013041) with: {'bootstrap': True, 'max_depth': 110, 'max_features': 2, 'min_samples_leaf': 4, 'min_samples_split': 8, 'n_estimators': 300}\n",
      "0.819336 (0.013787) with: {'bootstrap': True, 'max_depth': 110, 'max_features': 2, 'min_samples_leaf': 4, 'min_samples_split': 8, 'n_estimators': 1000}\n",
      "0.816450 (0.012783) with: {'bootstrap': True, 'max_depth': 110, 'max_features': 2, 'min_samples_leaf': 4, 'min_samples_split': 10, 'n_estimators': 100}\n",
      "0.816450 (0.011766) with: {'bootstrap': True, 'max_depth': 110, 'max_features': 2, 'min_samples_leaf': 4, 'min_samples_split': 10, 'n_estimators': 200}\n",
      "0.813564 (0.009753) with: {'bootstrap': True, 'max_depth': 110, 'max_features': 2, 'min_samples_leaf': 4, 'min_samples_split': 10, 'n_estimators': 300}\n",
      "0.819342 (0.011176) with: {'bootstrap': True, 'max_depth': 110, 'max_features': 2, 'min_samples_leaf': 4, 'min_samples_split': 10, 'n_estimators': 1000}\n",
      "0.802001 (0.012773) with: {'bootstrap': True, 'max_depth': 110, 'max_features': 2, 'min_samples_leaf': 4, 'min_samples_split': 12, 'n_estimators': 100}\n",
      "0.815007 (0.010612) with: {'bootstrap': True, 'max_depth': 110, 'max_features': 2, 'min_samples_leaf': 4, 'min_samples_split': 12, 'n_estimators': 200}\n",
      "0.813570 (0.007418) with: {'bootstrap': True, 'max_depth': 110, 'max_features': 2, 'min_samples_leaf': 4, 'min_samples_split': 12, 'n_estimators': 300}\n",
      "0.817887 (0.015821) with: {'bootstrap': True, 'max_depth': 110, 'max_features': 2, 'min_samples_leaf': 4, 'min_samples_split': 12, 'n_estimators': 1000}\n",
      "0.802014 (0.005721) with: {'bootstrap': True, 'max_depth': 110, 'max_features': 2, 'min_samples_leaf': 5, 'min_samples_split': 8, 'n_estimators': 100}\n",
      "0.810684 (0.005707) with: {'bootstrap': True, 'max_depth': 110, 'max_features': 2, 'min_samples_leaf': 5, 'min_samples_split': 8, 'n_estimators': 200}\n",
      "0.803438 (0.014729) with: {'bootstrap': True, 'max_depth': 110, 'max_features': 2, 'min_samples_leaf': 5, 'min_samples_split': 8, 'n_estimators': 300}\n",
      "0.804894 (0.009770) with: {'bootstrap': True, 'max_depth': 110, 'max_features': 2, 'min_samples_leaf': 5, 'min_samples_split': 8, 'n_estimators': 1000}\n",
      "0.801964 (0.029058) with: {'bootstrap': True, 'max_depth': 110, 'max_features': 2, 'min_samples_leaf': 5, 'min_samples_split': 10, 'n_estimators': 100}\n",
      "0.799103 (0.014737) with: {'bootstrap': True, 'max_depth': 110, 'max_features': 2, 'min_samples_leaf': 5, 'min_samples_split': 10, 'n_estimators': 200}\n",
      "0.810684 (0.005707) with: {'bootstrap': True, 'max_depth': 110, 'max_features': 2, 'min_samples_leaf': 5, 'min_samples_split': 10, 'n_estimators': 300}\n",
      "0.807773 (0.015138) with: {'bootstrap': True, 'max_depth': 110, 'max_features': 2, 'min_samples_leaf': 5, 'min_samples_split': 10, 'n_estimators': 1000}\n",
      "0.794793 (0.004310) with: {'bootstrap': True, 'max_depth': 110, 'max_features': 2, 'min_samples_leaf': 5, 'min_samples_split': 12, 'n_estimators': 100}\n",
      "0.804900 (0.012458) with: {'bootstrap': True, 'max_depth': 110, 'max_features': 2, 'min_samples_leaf': 5, 'min_samples_split': 12, 'n_estimators': 200}\n",
      "0.799090 (0.021174) with: {'bootstrap': True, 'max_depth': 110, 'max_features': 2, 'min_samples_leaf': 5, 'min_samples_split': 12, 'n_estimators': 300}\n",
      "0.810672 (0.010621) with: {'bootstrap': True, 'max_depth': 110, 'max_features': 2, 'min_samples_leaf': 5, 'min_samples_split': 12, 'n_estimators': 1000}\n",
      "0.835253 (0.006302) with: {'bootstrap': True, 'max_depth': 110, 'max_features': 3, 'min_samples_leaf': 3, 'min_samples_split': 8, 'n_estimators': 100}\n",
      "0.836677 (0.013751) with: {'bootstrap': True, 'max_depth': 110, 'max_features': 3, 'min_samples_leaf': 3, 'min_samples_split': 8, 'n_estimators': 200}\n",
      "0.828019 (0.009197) with: {'bootstrap': True, 'max_depth': 110, 'max_features': 3, 'min_samples_leaf': 3, 'min_samples_split': 8, 'n_estimators': 300}\n",
      "0.841031 (0.008337) with: {'bootstrap': True, 'max_depth': 110, 'max_features': 3, 'min_samples_leaf': 3, 'min_samples_split': 8, 'n_estimators': 1000}\n",
      "0.835234 (0.013103) with: {'bootstrap': True, 'max_depth': 110, 'max_features': 3, 'min_samples_leaf': 3, 'min_samples_split': 10, 'n_estimators': 100}\n",
      "0.833810 (0.002387) with: {'bootstrap': True, 'max_depth': 110, 'max_features': 3, 'min_samples_leaf': 3, 'min_samples_split': 10, 'n_estimators': 200}\n",
      "0.829456 (0.011739) with: {'bootstrap': True, 'max_depth': 110, 'max_features': 3, 'min_samples_leaf': 3, 'min_samples_split': 10, 'n_estimators': 300}\n",
      "0.829456 (0.011739) with: {'bootstrap': True, 'max_depth': 110, 'max_features': 3, 'min_samples_leaf': 3, 'min_samples_split': 10, 'n_estimators': 1000}\n",
      "0.817899 (0.010951) with: {'bootstrap': True, 'max_depth': 110, 'max_features': 3, 'min_samples_leaf': 3, 'min_samples_split': 12, 'n_estimators': 100}\n",
      "0.826564 (0.013120) with: {'bootstrap': True, 'max_depth': 110, 'max_features': 3, 'min_samples_leaf': 3, 'min_samples_split': 12, 'n_estimators': 200}\n",
      "0.822235 (0.010944) with: {'bootstrap': True, 'max_depth': 110, 'max_features': 3, 'min_samples_leaf': 3, 'min_samples_split': 12, 'n_estimators': 300}\n",
      "0.833798 (0.009230) with: {'bootstrap': True, 'max_depth': 110, 'max_features': 3, 'min_samples_leaf': 3, 'min_samples_split': 12, 'n_estimators': 1000}\n",
      "0.814995 (0.018182) with: {'bootstrap': True, 'max_depth': 110, 'max_features': 3, 'min_samples_leaf': 4, 'min_samples_split': 8, 'n_estimators': 100}\n",
      "0.836684 (0.011143) with: {'bootstrap': True, 'max_depth': 110, 'max_features': 3, 'min_samples_leaf': 4, 'min_samples_split': 8, 'n_estimators': 200}\n",
      "0.825127 (0.008544) with: {'bootstrap': True, 'max_depth': 110, 'max_features': 3, 'min_samples_leaf': 4, 'min_samples_split': 8, 'n_estimators': 300}\n",
      "0.830912 (0.007387) with: {'bootstrap': True, 'max_depth': 110, 'max_features': 3, 'min_samples_leaf': 4, 'min_samples_split': 8, 'n_estimators': 1000}\n",
      "0.817899 (0.010951) with: {'bootstrap': True, 'max_depth': 110, 'max_features': 3, 'min_samples_leaf': 4, 'min_samples_split': 10, 'n_estimators': 100}\n",
      "0.820785 (0.012775) with: {'bootstrap': True, 'max_depth': 110, 'max_features': 3, 'min_samples_leaf': 4, 'min_samples_split': 10, 'n_estimators': 200}\n",
      "0.829462 (0.008536) with: {'bootstrap': True, 'max_depth': 110, 'max_features': 3, 'min_samples_leaf': 4, 'min_samples_split': 10, 'n_estimators': 300}\n",
      "0.825121 (0.012767) with: {'bootstrap': True, 'max_depth': 110, 'max_features': 3, 'min_samples_leaf': 4, 'min_samples_split': 10, 'n_estimators': 1000}\n",
      "0.822241 (0.007402) with: {'bootstrap': True, 'max_depth': 110, 'max_features': 3, 'min_samples_leaf': 4, 'min_samples_split': 12, 'n_estimators': 100}\n",
      "0.820767 (0.021131) with: {'bootstrap': True, 'max_depth': 110, 'max_features': 3, 'min_samples_leaf': 4, 'min_samples_split': 12, 'n_estimators': 200}\n",
      "0.816444 (0.015121) with: {'bootstrap': True, 'max_depth': 110, 'max_features': 3, 'min_samples_leaf': 4, 'min_samples_split': 12, 'n_estimators': 300}\n",
      "0.830905 (0.009718) with: {'bootstrap': True, 'max_depth': 110, 'max_features': 3, 'min_samples_leaf': 4, 'min_samples_split': 12, 'n_estimators': 1000}\n",
      "0.819349 (0.007737) with: {'bootstrap': True, 'max_depth': 110, 'max_features': 3, 'min_samples_leaf': 5, 'min_samples_split': 8, 'n_estimators': 100}\n",
      "0.819374 (0.007116) with: {'bootstrap': True, 'max_depth': 110, 'max_features': 3, 'min_samples_leaf': 5, 'min_samples_split': 8, 'n_estimators': 200}\n",
      "0.815001 (0.014673) with: {'bootstrap': True, 'max_depth': 110, 'max_features': 3, 'min_samples_leaf': 5, 'min_samples_split': 8, 'n_estimators': 300}\n",
      "0.815007 (0.010612) with: {'bootstrap': True, 'max_depth': 110, 'max_features': 3, 'min_samples_leaf': 5, 'min_samples_split': 8, 'n_estimators': 1000}\n",
      "0.804881 (0.025019) with: {'bootstrap': True, 'max_depth': 110, 'max_features': 3, 'min_samples_leaf': 5, 'min_samples_split': 10, 'n_estimators': 100}\n",
      "0.819368 (0.003912) with: {'bootstrap': True, 'max_depth': 110, 'max_features': 3, 'min_samples_leaf': 5, 'min_samples_split': 10, 'n_estimators': 200}\n",
      "0.810678 (0.007755) with: {'bootstrap': True, 'max_depth': 110, 'max_features': 3, 'min_samples_leaf': 5, 'min_samples_split': 10, 'n_estimators': 300}\n",
      "0.819349 (0.007737) with: {'bootstrap': True, 'max_depth': 110, 'max_features': 3, 'min_samples_leaf': 5, 'min_samples_split': 10, 'n_estimators': 1000}\n",
      "0.803438 (0.018149) with: {'bootstrap': True, 'max_depth': 110, 'max_features': 3, 'min_samples_leaf': 5, 'min_samples_split': 12, 'n_estimators': 100}\n",
      "0.817906 (0.007410) with: {'bootstrap': True, 'max_depth': 110, 'max_features': 3, 'min_samples_leaf': 5, 'min_samples_split': 12, 'n_estimators': 200}\n",
      "0.809229 (0.013048) with: {'bootstrap': True, 'max_depth': 110, 'max_features': 3, 'min_samples_leaf': 5, 'min_samples_split': 12, 'n_estimators': 300}\n",
      "0.822247 (0.006317) with: {'bootstrap': True, 'max_depth': 110, 'max_features': 3, 'min_samples_leaf': 5, 'min_samples_split': 12, 'n_estimators': 1000}\n"
     ]
    }
   ],
   "source": [
    "# summarize results\n",
    "print(\"Best: %f using %s\" % (grid_result.best_score_, grid_result.best_params_))\n",
    "means = grid_result.cv_results_['mean_test_score']\n",
    "stds = grid_result.cv_results_['std_test_score']\n",
    "params = grid_result.cv_results_['params']\n",
    "for mean, stdev, param in zip(means, stds, params):\n",
    "    print(\"%f (%f) with: %r\" % (mean, stdev, param))"
   ]
  },
  {
   "cell_type": "code",
   "execution_count": 32,
   "id": "a67abf15",
   "metadata": {},
   "outputs": [
    {
     "data": {
      "text/plain": [
       "{'bootstrap': True,\n",
       " 'max_depth': 100,\n",
       " 'max_features': 3,\n",
       " 'min_samples_leaf': 3,\n",
       " 'min_samples_split': 8,\n",
       " 'n_estimators': 200}"
      ]
     },
     "execution_count": 32,
     "metadata": {},
     "output_type": "execute_result"
    }
   ],
   "source": [
    "grid_result.best_params_"
   ]
  },
  {
   "cell_type": "code",
   "execution_count": 33,
   "id": "45cc3666",
   "metadata": {},
   "outputs": [],
   "source": [
    "def evaluate(model, test_features, test_labels):\n",
    "    predictions = model.predict(test_features)\n",
    "    errors = abs(predictions - test_labels)\n",
    "    mape = 100 * np.mean(errors / test_labels)\n",
    "    accuracy = 100 - mape\n",
    "    print('Model Performance')\n",
    "    print('Average Error: {:0.4f} degrees.'.format(np.mean(errors)))\n",
    "    print('Accuracy = {:0.2f}%.'.format(accuracy))\n",
    "    \n",
    "    return accuracy"
   ]
  },
  {
   "cell_type": "code",
   "execution_count": 35,
   "id": "295b889e",
   "metadata": {},
   "outputs": [],
   "source": [
    "best_grid = grid_result.best_estimator_"
   ]
  },
  {
   "cell_type": "code",
   "execution_count": 37,
   "id": "0cead0ed",
   "metadata": {},
   "outputs": [
    {
     "name": "stdout",
     "output_type": "stream",
     "text": [
      "Model Performance\n",
      "Average Error: 0.1387 degrees.\n",
      "Accuracy = 93.50%.\n"
     ]
    }
   ],
   "source": [
    "grid_accuracy = evaluate(best_grid, X_val, Y_val)"
   ]
  }
 ],
 "metadata": {
  "kernelspec": {
   "display_name": "Python 3",
   "language": "python",
   "name": "python3"
  },
  "language_info": {
   "codemirror_mode": {
    "name": "ipython",
    "version": 3
   },
   "file_extension": ".py",
   "mimetype": "text/x-python",
   "name": "python",
   "nbconvert_exporter": "python",
   "pygments_lexer": "ipython3",
   "version": "3.7.10"
  }
 },
 "nbformat": 4,
 "nbformat_minor": 5
}
